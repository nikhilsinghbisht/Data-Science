{
 "cells": [
  {
   "cell_type": "markdown",
   "id": "f2d4aba2-0d05-4dec-8955-da147906c47b",
   "metadata": {
    "slideshow": {
     "slide_type": "notes"
    },
    "tags": []
   },
   "source": [
    "Ans1:  Characteristics of Tuple\n",
    "        >They are indexed\n",
    "        >They are ordered\n",
    "        >They are immutable\n",
    "        >They can contain duplicate items"
   ]
  },
  {
   "cell_type": "markdown",
   "id": "951e799b-da26-4a26-8c0f-1ea6f06656e3",
   "metadata": {
    "slideshow": {
     "slide_type": "notes"
    },
    "tags": []
   },
   "source": [
    "Ans2: There are only two built-in methods that can be used on a tuple. \n",
    "This is because methods that can add or remove items are not available in the tuple.\n",
    "Since tuple() is immutable, therefore, it does not change after the initial assigning of items.\n",
    "The methods used on a tuple are count() and index().\n",
    "\n",
    "count() – This method returns the number of times a specific value occurs in a tuple\n",
    "\n",
    "thistuple = (1, 3, 7, 8, 7, 5, 4, 6, 8, 5)\n",
    "\n",
    "x = thistuple.count(5)\n",
    "\n",
    "print(x)\n",
    ">>2\n",
    "\n",
    "index() – This method searches the tuple for a specific value after which it returns the position of the specific value.\n",
    "\n",
    "thistuple = (1, 3, 7, 8, 7, 5, 4, 6, 8, 5)\n",
    "\n",
    "x = thistuple.index(8)\n",
    "\n",
    "print(x)\n",
    ">>3"
   ]
  },
  {
   "cell_type": "code",
   "execution_count": 1,
   "id": "9678258f-fe92-4148-a1d1-899f0c2c50ed",
   "metadata": {},
   "outputs": [
    {
     "data": {
      "text/plain": [
       "2"
      ]
     },
     "execution_count": 1,
     "metadata": {},
     "output_type": "execute_result"
    }
   ],
   "source": [
    "thistuple = (1, 3, 7, 8, 7, 5, 4, 6, 8, 5)\n",
    "\n",
    "x = thistuple.count(5)\n",
    "\n",
    "x"
   ]
  },
  {
   "cell_type": "code",
   "execution_count": 2,
   "id": "4003952a-7319-495c-b1aa-c369df68f7e5",
   "metadata": {},
   "outputs": [
    {
     "data": {
      "text/plain": [
       "3"
      ]
     },
     "execution_count": 2,
     "metadata": {},
     "output_type": "execute_result"
    }
   ],
   "source": [
    "thistuple = (1, 3, 7, 8, 7, 5, 4, 6, 8, 5)\n",
    "\n",
    "x = thistuple.index(8)\n",
    "\n",
    "x"
   ]
  },
  {
   "cell_type": "markdown",
   "id": "2ec77cce-4672-4a0d-add8-6475e5a70543",
   "metadata": {
    "slideshow": {
     "slide_type": "notes"
    },
    "tags": []
   },
   "source": [
    "Ans3. A Set is an unordered collection data type that is iterable, mutable,unordered and has no duplicate elements.\n"
   ]
  },
  {
   "cell_type": "code",
   "execution_count": 3,
   "id": "6d7fd8bb-d479-4377-9a32-427045e335a7",
   "metadata": {},
   "outputs": [
    {
     "data": {
      "text/plain": [
       "{1, 2, 3, 4}"
      ]
     },
     "execution_count": 3,
     "metadata": {},
     "output_type": "execute_result"
    }
   ],
   "source": [
    "List = [1, 1, 1, 2, 1, 3, 1, 4, 2, 1, 2, 2, 2, 3, 2, 4, 3, 1, 3, 2, 3, 3, 3, 4, 4, 1, 4, 2, 4, 3, 4, 4]\n",
    "Set=set(List)\n",
    "Set\n"
   ]
  },
  {
   "cell_type": "markdown",
   "id": "13ef0cbc-a2a7-4c60-a2ea-0fd369d46d7f",
   "metadata": {},
   "source": [
    "Ans4. union Method :\n",
    "This method is used to return the union of a set and the set of elements from one or more iterable like string,\n",
    "list, set. This method takes arbitrary number of iterable objects as argument, which means one or more iterable \n",
    "can be passed. If iterable other than set is passed, it first converts the iterable object to set object and \n",
    "then perform the union operation. It returns a newly created set, which contains all the elements ( distinct )\n",
    "present in all the iterables.\n",
    "\n",
    "e.g\n",
    "x = {\"apple\", \"banana\", \"cherry\"}\n",
    "y = {\"google\", \"microsoft\", \"apple\"}\n",
    "\n",
    "z = x.union(y)\n",
    "\n",
    "print(z)\n",
    ">>{'apple', 'banana', 'cherry', 'google', 'microsoft'}\n",
    "\n",
    "update Method :\n",
    "This method is used to return the union of a set and the set of elements from one or more iterable like string,\n",
    "list, set. It is very similar to union() method, with difference is that where union() method create and return \n",
    "a new set, containing all the elements ( distinct ) present in all the iterables, update() method updates the \n",
    "set on which this method is called with all the distinct elements present in all the iterables.\n",
    "\n",
    "e.g\n",
    "x = {\"apple\", \"banana\", \"cherry\"}\n",
    "y = {\"google\", \"microsoft\", \"apple\"}\n",
    "\n",
    "x.update(y)\n",
    "\n",
    "print(x)\n",
    ">>{'apple', 'banana', 'cherry', 'google', 'microsoft'}"
   ]
  },
  {
   "cell_type": "code",
   "execution_count": 4,
   "id": "255aa024-d1c4-4d28-9cd2-4868790d3cc8",
   "metadata": {},
   "outputs": [
    {
     "data": {
      "text/plain": [
       "{'apple', 'banana', 'cherry', 'google', 'microsoft'}"
      ]
     },
     "execution_count": 4,
     "metadata": {},
     "output_type": "execute_result"
    }
   ],
   "source": [
    "x = {\"apple\", \"banana\", \"cherry\"}\n",
    "y = {\"google\", \"microsoft\", \"apple\"}\n",
    "\n",
    "z = x.union(y)\n",
    "\n",
    "z"
   ]
  },
  {
   "cell_type": "code",
   "execution_count": 5,
   "id": "4bb73e92-149a-4bc3-a781-435a09002988",
   "metadata": {},
   "outputs": [
    {
     "data": {
      "text/plain": [
       "{'apple', 'banana', 'cherry', 'google', 'microsoft'}"
      ]
     },
     "execution_count": 5,
     "metadata": {},
     "output_type": "execute_result"
    }
   ],
   "source": [
    "x = {\"apple\", \"banana\", \"cherry\"}\n",
    "y = {\"google\", \"microsoft\", \"apple\"}\n",
    "\n",
    "x.update(y)\n",
    "\n",
    "x"
   ]
  },
  {
   "cell_type": "markdown",
   "id": "35feefcd-13ca-41b6-948d-910f8147bb7e",
   "metadata": {},
   "source": [
    "Ans5.Dictionaries are used to store data values in key:value pairs.\n",
    "A dictionary is a collection which is ordered, changeable and do not allow duplicates.\n",
    "Dictionaries are written with curly brackets, and have keys and values\n",
    "e.g\n",
    "d={1:\"apple\" , \"car\":\"mustang\" }\n",
    "\n",
    "As of Python version 3.6+, dictionaries are ordered. In Python 3.6 and earlier, dictionaries are unordered.\n",
    "When we say that dictionaries are ordered, it means that the items have a defined order, and that order will\n",
    "not change."
   ]
  },
  {
   "cell_type": "code",
   "execution_count": 6,
   "id": "d6c6d772-2c2e-4251-8e50-0c1ddda602cc",
   "metadata": {},
   "outputs": [
    {
     "data": {
      "text/plain": [
       "{1: 'apple', 'car': 'mustang'}"
      ]
     },
     "execution_count": 6,
     "metadata": {},
     "output_type": "execute_result"
    }
   ],
   "source": [
    "d={1:\"apple\" , \"car\":\"mustang\" }\n",
    "d"
   ]
  },
  {
   "cell_type": "markdown",
   "id": "2e653cbf-7a3c-43ab-acbf-69d3af9ad75c",
   "metadata": {},
   "source": [
    "Ans6. Yes,we can create a nested dictionary.Nesting Dictionary means putting a dictionary inside another dictionary. "
   ]
  },
  {
   "cell_type": "code",
   "execution_count": 1,
   "id": "94d744a7-dadd-4433-97d4-9c27bf01584f",
   "metadata": {},
   "outputs": [
    {
     "data": {
      "text/plain": [
       "{'dict1': {'key_A': 'value_A'}, 'dict2': {'key_B': 'value_B'}}"
      ]
     },
     "execution_count": 1,
     "metadata": {},
     "output_type": "execute_result"
    }
   ],
   "source": [
    "nested_dict = { 'dict1': {'key_A': 'value_A'},\n",
    "                'dict2': {'key_B': 'value_B'}}\n",
    "nested_dict"
   ]
  },
  {
   "cell_type": "markdown",
   "id": "2f92cefa-4f86-4992-a871-9d765b230890",
   "metadata": {},
   "source": [
    "Ans7. The setdefault() method returns the value of the item with the specified key.\n",
    "\n",
    "If the key does not exist, insert the key, with the specified value, see example below\n"
   ]
  },
  {
   "cell_type": "code",
   "execution_count": 4,
   "id": "f3b4f676-a966-41da-b39b-b387a8ec6279",
   "metadata": {},
   "outputs": [
    {
     "data": {
      "text/plain": [
       "['Python', 'Machine Learning', 'Deep Learning']"
      ]
     },
     "execution_count": 4,
     "metadata": {},
     "output_type": "execute_result"
    }
   ],
   "source": [
    "dict1 = {'language' : 'Python', 'course': 'Data Science Masters'}\n",
    "x=dict1.setdefault(\"topics\",[\"Python\", \"Machine Learning\",\"Deep Learning\"])\n",
    "x"
   ]
  },
  {
   "cell_type": "code",
   "execution_count": 6,
   "id": "7418944d-86a3-4f2a-b4b5-fca8f3fbcb8d",
   "metadata": {},
   "outputs": [
    {
     "data": {
      "text/plain": [
       "{'language': 'Python',\n",
       " 'course': 'Data Science Masters',\n",
       " 'topics': ['Python', 'Machine Learning', 'Deep Learning']}"
      ]
     },
     "execution_count": 6,
     "metadata": {},
     "output_type": "execute_result"
    }
   ],
   "source": [
    "dict1"
   ]
  },
  {
   "cell_type": "markdown",
   "id": "0301fb50-bf65-496b-b97e-ed498ecbe197",
   "metadata": {},
   "source": [
    "Ans8.The three view objects of dictionary in python are keys, values and items. They provide a non-constant view of the dictionary’s entries.\n",
    "\n",
    "Keys holds all the keys of the dictionary, the values objects holds all the values, whereas the items holds the key-value pairs."
   ]
  },
  {
   "cell_type": "code",
   "execution_count": 8,
   "id": "be21cefd-d8fa-499a-97b4-adbdaf7d2005",
   "metadata": {},
   "outputs": [
    {
     "data": {
      "text/plain": [
       "{'Sport': 'Cricket',\n",
       " 'Teams': ['India',\n",
       "  'Australia',\n",
       "  'England',\n",
       "  'South Africa',\n",
       "  'Sri Lanka',\n",
       "  'New Zealand']}"
      ]
     },
     "execution_count": 8,
     "metadata": {},
     "output_type": "execute_result"
    }
   ],
   "source": [
    "dict1 = {'Sport': 'Cricket' , 'Teams': ['India', 'Australia', 'England', 'South Africa', 'Sri Lanka', 'New Zealand']}\n",
    "dict1"
   ]
  },
  {
   "cell_type": "code",
   "execution_count": 9,
   "id": "aab2d133-4c75-4722-a433-24961e8859c7",
   "metadata": {},
   "outputs": [
    {
     "data": {
      "text/plain": [
       "dict_keys(['Sport', 'Teams'])"
      ]
     },
     "execution_count": 9,
     "metadata": {},
     "output_type": "execute_result"
    }
   ],
   "source": [
    "dict1.keys()"
   ]
  },
  {
   "cell_type": "code",
   "execution_count": 10,
   "id": "7c9b1c88-3210-4933-9e2f-cfa0db9eb537",
   "metadata": {},
   "outputs": [
    {
     "data": {
      "text/plain": [
       "dict_values(['Cricket', ['India', 'Australia', 'England', 'South Africa', 'Sri Lanka', 'New Zealand']])"
      ]
     },
     "execution_count": 10,
     "metadata": {},
     "output_type": "execute_result"
    }
   ],
   "source": [
    "dict1.values()"
   ]
  },
  {
   "cell_type": "code",
   "execution_count": 11,
   "id": "87afc1e7-946e-4b2b-aa34-19f0a2084b08",
   "metadata": {},
   "outputs": [
    {
     "data": {
      "text/plain": [
       "dict_items([('Sport', 'Cricket'), ('Teams', ['India', 'Australia', 'England', 'South Africa', 'Sri Lanka', 'New Zealand'])])"
      ]
     },
     "execution_count": 11,
     "metadata": {},
     "output_type": "execute_result"
    }
   ],
   "source": [
    "dict1.items()"
   ]
  },
  {
   "cell_type": "markdown",
   "id": "23bfe817-c952-4803-bb30-72538169ce44",
   "metadata": {},
   "source": []
  }
 ],
 "metadata": {
  "kernelspec": {
   "display_name": "Python 3 (ipykernel)",
   "language": "python",
   "name": "python3"
  },
  "language_info": {
   "codemirror_mode": {
    "name": "ipython",
    "version": 3
   },
   "file_extension": ".py",
   "mimetype": "text/x-python",
   "name": "python",
   "nbconvert_exporter": "python",
   "pygments_lexer": "ipython3",
   "version": "3.10.8"
  }
 },
 "nbformat": 4,
 "nbformat_minor": 5
}
