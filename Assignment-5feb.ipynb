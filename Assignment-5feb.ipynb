{
 "cells": [
  {
   "cell_type": "code",
   "execution_count": null,
   "id": "d1f566c1-7c2f-4e16-84e4-34e47315cbdf",
   "metadata": {},
   "outputs": [],
   "source": [
    "# Ans1\n",
    "Classes are user-defined data types that act as the blueprint for individual objects, attributes and methods.\n",
    "Classes provide a means of bundling data and functionality together. Creating a new class creates a new type of object,\n",
    "allowing new instances of that type to be made. Each class instance can have attributes attached to it for maintaining its state. \n",
    "Class instances can also have methods (defined by their class) for modifying their state.\n",
    "To create a class, use the keyword class\n",
    "    e.g\n",
    "    class class_name:\n",
    "        body\n",
    "        \n",
    "Objects are instances of a class created with specifically defined data. Objects can correspond to real-world objects or an abstract entity.\n",
    "An object consists of : \n",
    "\n",
    "State: It is represented by the attributes of an object. It also reflects the properties of an object.\n",
    "Behaviour: It is represented by the methods of an object. It also reflects the response of an object to other objects.\n",
    "Identity: It gives a unique name to an object and enables one object to interact with other objects.\n",
    "\n",
    "To create object\n",
    "obj_name=class_name()"
   ]
  },
  {
   "cell_type": "code",
   "execution_count": 1,
   "id": "a96cfdbe-025a-4e0c-b341-6d52d7228ad6",
   "metadata": {},
   "outputs": [
    {
     "name": "stdout",
     "output_type": "stream",
     "text": [
      "mammal\n",
      "I'm a mammal\n",
      "I'm a dog\n"
     ]
    }
   ],
   "source": [
    "class Dog:\n",
    "    \n",
    "    attr1 = \"mammal\"\n",
    "    attr2 = \"dog\"\n",
    " \n",
    "    # A sample method\n",
    "    def fun(self):\n",
    "        print(\"I'm a\", self.attr1)\n",
    "        print(\"I'm a\", self.attr2)\n",
    " \n",
    " \n",
    "# Object instantiation\n",
    "Rodger = Dog()\n",
    " \n",
    "# Accessing class attributes\n",
    "# and method through objects\n",
    "print(Rodger.attr1)\n",
    "Rodger.fun()"
   ]
  },
  {
   "cell_type": "code",
   "execution_count": null,
   "id": "49562a5d-430f-4be5-8e9f-dcb993aafa5b",
   "metadata": {},
   "outputs": [],
   "source": [
    "# Ans2\n",
    "\n",
    "Four pillars of OOPs are:\n",
    "1.Inheritance: Inheritance is the capability of one class to derive or inherit the properties from another class. \n",
    "The class that derives properties is called the derived class or child class and the class from which the properties\n",
    "are being derived is called the base class or parent class. The benefits of inheritance are:\n",
    "\n",
    "It represents real-world relationships well.\n",
    "It provides the reusability of a code. We don’t have to write the same code again and again. Also, it allows us to add more\n",
    "features to a class without modifying it.\n",
    "It is transitive in nature, which means that if class B inherits from another class A, then all the subclasses of B would automatically\n",
    "inherit from class A.\n",
    "\n",
    "Types of Inheritance – \n",
    "Single Inheritance:\n",
    "Single-level inheritance enables a derived class to inherit characteristics from a single-parent class.\n",
    "\n",
    "Multilevel Inheritance:\n",
    "Multi-level inheritance enables a derived class to inherit properties from an immediate parent class which in turn inherits\n",
    "properties from his parent class.\n",
    "\n",
    "Hierarchical Inheritance:\n",
    "Hierarchical level inheritance enables more than one derived class to inherit properties from a parent class.\n",
    "\n",
    "Multiple Inheritance:\n",
    "Multiple level inheritance enables one derived class to inherit properties from more than one base class."
   ]
  },
  {
   "cell_type": "code",
   "execution_count": null,
   "id": "9863742d-3cc1-4736-85e2-0703ff809cca",
   "metadata": {},
   "outputs": [],
   "source": [
    "2.Polymorphism:Polymorphism simply means having many forms. It is the ability to take more than one form. \n",
    "It is a feature that provides a function or an operator with more than one definition.\n",
    "It can be implemented using function overloading, operator overload, function overriding, virtual function.\n",
    "An operation may show off different behaviors at different times."
   ]
  },
  {
   "cell_type": "code",
   "execution_count": null,
   "id": "46f7b3cc-f957-4fc4-a630-79083b119996",
   "metadata": {},
   "outputs": [],
   "source": [
    "3.Encapsulation: Encapsulation is one of the fundamental concepts in object-oriented programming (OOP).\n",
    "It describes the idea of wrapping data and the methods that work on data within one unit.\n",
    "This puts restrictions on accessing variables and methods directly and can prevent the accidental modification of data.\n",
    "To prevent accidental change, an object’s variable can only be changed by an object’s method. Those types of variables are known as private variables."
   ]
  },
  {
   "cell_type": "code",
   "execution_count": null,
   "id": "b32feb6b-9b6c-4567-84db-992d96cc0b46",
   "metadata": {},
   "outputs": [],
   "source": [
    "4.Abstraction: It hides the unnecessary code details from the user. Also,  when we do not want to give out sensitive parts of our code\n",
    "implementation and this is where data abstraction came.\n",
    "Data Abstraction in Python can be achieved through creating abstract classes."
   ]
  },
  {
   "cell_type": "code",
   "execution_count": null,
   "id": "0dc5ff64-0c8d-426f-ba0c-f349ef35d624",
   "metadata": {},
   "outputs": [],
   "source": []
  },
  {
   "cell_type": "code",
   "execution_count": null,
   "id": "a7895742-5f87-40c3-bbc5-dd7be215a1cb",
   "metadata": {},
   "outputs": [],
   "source": [
    "#Ans 3\n",
    "The __init__  function is called every time an object is created from a class. \n",
    "The __init__ method lets the class initialize the object’s attributes and serves no other purpose. It is only used within classes. \n",
    "It is a constructor.Constructors are used to initializing the object’s state. The task of constructors is to initialize(assign values) to the data members \n",
    "of the class when an object of the class is created. Like methods, a constructor also contains a collection of statements(i.e. instructions) \n",
    "that are executed at the time of Object creation. It is run as soon as an object of a class is instantiated. The method is useful to do any\n",
    "initialization you want to do with your object.\n"
   ]
  },
  {
   "cell_type": "code",
   "execution_count": 2,
   "id": "6077c4d4-1846-455e-ac43-5fce9b50adb8",
   "metadata": {},
   "outputs": [
    {
     "name": "stdout",
     "output_type": "stream",
     "text": [
      "Hello, my name is Nikhil\n",
      "Hello, my name is Abhinav\n",
      "Hello, my name is Anshul\n"
     ]
    }
   ],
   "source": [
    "# A Sample class with init method\n",
    "class Person:\n",
    " \n",
    "    # init method or constructor\n",
    "    def __init__(self, name):\n",
    "        self.name = name\n",
    " \n",
    "    # Sample Method\n",
    "    def say_hi(self):\n",
    "        print('Hello, my name is', self.name)\n",
    " \n",
    " \n",
    "# Creating different objects\n",
    "p1 = Person('Nikhil')\n",
    "p2 = Person('Abhinav')\n",
    "p3 = Person('Anshul')\n",
    " \n",
    "p1.say_hi()\n",
    "p2.say_hi()\n",
    "p3.say_hi()"
   ]
  },
  {
   "cell_type": "code",
   "execution_count": null,
   "id": "8aa76cc8-1f5c-4d6e-8f20-a3c8b292f124",
   "metadata": {},
   "outputs": [],
   "source": []
  },
  {
   "cell_type": "code",
   "execution_count": null,
   "id": "8e1aa115-2a19-4c06-ad5c-90258b3c1467",
   "metadata": {},
   "outputs": [],
   "source": [
    "#Ans 4\n",
    "self represents the instance of the class. By using the “self”  we can access the attributes and methods of the class in python.\n",
    "It binds the attributes with the given arguments.\n",
    "The reason you need to use self. is because Python does not use the @ syntax to refer to instance attributes. \n",
    "Python decided to do methods in a way that makes the instance to which the method belongs be passed automatically, \n",
    "but not received automatically: the first parameter of methods is the instance the method is called on.\n",
    "It does not have to be named self , you can call it whatever you like, but it has to be the first parameter of any function in the class:"
   ]
  },
  {
   "cell_type": "code",
   "execution_count": 3,
   "id": "acd0539d-c5d6-42f4-b8b2-f3915844ddc4",
   "metadata": {},
   "outputs": [
    {
     "name": "stdout",
     "output_type": "stream",
     "text": [
      "Hello my name is John\n"
     ]
    }
   ],
   "source": [
    "class Person:\n",
    "  def __init__(mysillyobject, name, age):\n",
    "    mysillyobject.name = name\n",
    "    mysillyobject.age = age\n",
    "\n",
    "  def myfunc(abc):\n",
    "    print(\"Hello my name is \" + abc.name)\n",
    "\n",
    "p1 = Person(\"John\", 36)\n",
    "p1.myfunc()"
   ]
  },
  {
   "cell_type": "code",
   "execution_count": null,
   "id": "d5bca8e6-04c4-406a-81ad-2fb24e797596",
   "metadata": {},
   "outputs": [],
   "source": []
  },
  {
   "cell_type": "code",
   "execution_count": null,
   "id": "b3a6408a-c84f-4da5-8121-7d9f4c33f82a",
   "metadata": {},
   "outputs": [],
   "source": [
    "#Ans5\n",
    "Inheritance is defined as the mechanism of inheriting the properties of the base class to the child class. \n",
    "Types of Inheritance depend upon the number of child and parent classes involved. There are four types of inheritance in Python:\n"
   ]
  },
  {
   "cell_type": "code",
   "execution_count": null,
   "id": "5ca7b11b-21c4-4459-957a-43fe49e188ad",
   "metadata": {},
   "outputs": [],
   "source": [
    "Single Inheritance: \n",
    "Single inheritance enables a derived class to inherit properties from a single parent class, thus enabling code reusability and \n",
    "the addition of new features to existing code.\n"
   ]
  },
  {
   "cell_type": "code",
   "execution_count": 4,
   "id": "90f7fc2e-356e-4fed-b9d1-d9ad4f911942",
   "metadata": {},
   "outputs": [
    {
     "name": "stdout",
     "output_type": "stream",
     "text": [
      "This function is in parent class.\n",
      "This function is in child class.\n"
     ]
    }
   ],
   "source": [
    "# Base class\n",
    "class Parent:\n",
    "    def func1(self):\n",
    "        print(\"This function is in parent class.\")\n",
    " \n",
    "# Derived class\n",
    " \n",
    " \n",
    "class Child(Parent):\n",
    "    def func2(self):\n",
    "        print(\"This function is in child class.\")\n",
    " \n",
    " \n",
    "# Driver's code\n",
    "object = Child()\n",
    "object.func1()\n",
    "object.func2()"
   ]
  },
  {
   "cell_type": "code",
   "execution_count": null,
   "id": "24866a0d-fc18-4870-8136-e6b4b4638157",
   "metadata": {},
   "outputs": [],
   "source": [
    "Multiple Inheritance: \n",
    "When a class can be derived from more than one base class this type of inheritance is called multiple inheritances.\n",
    "In multiple inheritances, all the features of the base classes are inherited into the derived class. "
   ]
  },
  {
   "cell_type": "code",
   "execution_count": 5,
   "id": "224435d6-827c-4b4a-84a9-f878985b46a0",
   "metadata": {},
   "outputs": [
    {
     "name": "stdout",
     "output_type": "stream",
     "text": [
      "Father : RAM\n",
      "Mother : SITA\n"
     ]
    }
   ],
   "source": [
    "# Base class1\n",
    "class Mother:\n",
    "    mothername = \"\"\n",
    " \n",
    "    def mother(self):\n",
    "        print(self.mothername)\n",
    " \n",
    "# Base class2\n",
    " \n",
    " \n",
    "class Father:\n",
    "    fathername = \"\"\n",
    " \n",
    "    def father(self):\n",
    "        print(self.fathername)\n",
    " \n",
    "# Derived class\n",
    " \n",
    " \n",
    "class Son(Mother, Father):\n",
    "    def parents(self):\n",
    "        print(\"Father :\", self.fathername)\n",
    "        print(\"Mother :\", self.mothername)\n",
    " \n",
    " \n",
    "# Driver's code\n",
    "s1 = Son()\n",
    "s1.fathername = \"RAM\"\n",
    "s1.mothername = \"SITA\"\n",
    "s1.parents()"
   ]
  },
  {
   "cell_type": "code",
   "execution_count": null,
   "id": "1365b1fc-a331-4606-bbbd-18d824239229",
   "metadata": {},
   "outputs": [],
   "source": [
    "Multilevel Inheritance :\n",
    "In multilevel inheritance, features of the base class and the derived class are further inherited into the new derived class.\n",
    "This is similar to a relationship representing a child and a grandfather. "
   ]
  },
  {
   "cell_type": "code",
   "execution_count": 6,
   "id": "48db0548-8c07-419e-84ce-48eb68c82dfa",
   "metadata": {},
   "outputs": [
    {
     "name": "stdout",
     "output_type": "stream",
     "text": [
      "Lal mani\n",
      "Grandfather name : Lal mani\n",
      "Father name : Rampal\n",
      "Son name : Prince\n"
     ]
    }
   ],
   "source": [
    "# Base class\n",
    " \n",
    " \n",
    "class Grandfather:\n",
    " \n",
    "    def __init__(self, grandfathername):\n",
    "        self.grandfathername = grandfathername\n",
    " \n",
    "# Intermediate class\n",
    " \n",
    " \n",
    "class Father(Grandfather):\n",
    "    def __init__(self, fathername, grandfathername):\n",
    "        self.fathername = fathername\n",
    " \n",
    "        # invoking constructor of Grandfather class\n",
    "        Grandfather.__init__(self, grandfathername)\n",
    " \n",
    "# Derived class\n",
    " \n",
    " \n",
    "class Son(Father):\n",
    "    def __init__(self, sonname, fathername, grandfathername):\n",
    "        self.sonname = sonname\n",
    " \n",
    "        # invoking constructor of Father class\n",
    "        Father.__init__(self, fathername, grandfathername)\n",
    " \n",
    "    def print_name(self):\n",
    "        print('Grandfather name :', self.grandfathername)\n",
    "        print(\"Father name :\", self.fathername)\n",
    "        print(\"Son name :\", self.sonname)\n",
    " \n",
    " \n",
    "#  Driver code\n",
    "s1 = Son('Prince', 'Rampal', 'Lal mani')\n",
    "print(s1.grandfathername)\n",
    "s1.print_name()"
   ]
  },
  {
   "cell_type": "code",
   "execution_count": null,
   "id": "f74ff9e1-2dc6-4ae7-90a3-7255be694d04",
   "metadata": {},
   "outputs": [],
   "source": [
    "Hierarchical Inheritance: \n",
    "When more than one derived class are created from a single base this type of inheritance is called hierarchical inheritance.\n",
    "In this program, we have a parent (base) class and two child (derived) classes."
   ]
  },
  {
   "cell_type": "code",
   "execution_count": 7,
   "id": "420c3caf-7f7f-46d0-a5d7-c21cdced2a00",
   "metadata": {},
   "outputs": [
    {
     "name": "stdout",
     "output_type": "stream",
     "text": [
      "This function is in parent class.\n",
      "This function is in child 1.\n",
      "This function is in parent class.\n",
      "This function is in child 2.\n"
     ]
    }
   ],
   "source": [
    "# Base class\n",
    "class Parent:\n",
    "    def func1(self):\n",
    "        print(\"This function is in parent class.\")\n",
    " \n",
    "# Derived class1\n",
    " \n",
    " \n",
    "class Child1(Parent):\n",
    "    def func2(self):\n",
    "        print(\"This function is in child 1.\")\n",
    " \n",
    "# Derivied class2\n",
    " \n",
    " \n",
    "class Child2(Parent):\n",
    "    def func3(self):\n",
    "        print(\"This function is in child 2.\")\n",
    " \n",
    " \n",
    "# Driver's code\n",
    "object1 = Child1()\n",
    "object2 = Child2()\n",
    "object1.func1()\n",
    "object1.func2()\n",
    "object2.func1()\n",
    "object2.func3()"
   ]
  },
  {
   "cell_type": "code",
   "execution_count": null,
   "id": "edf1ebdd-e751-4a0e-9793-88ed9bd98a70",
   "metadata": {},
   "outputs": [],
   "source": [
    "Hybrid Inheritance: \n",
    "Inheritance consisting of multiple types of inheritance is called hybrid inheritance."
   ]
  },
  {
   "cell_type": "code",
   "execution_count": 8,
   "id": "4ade199c-c093-4479-9be0-c4624a75eeac",
   "metadata": {},
   "outputs": [
    {
     "name": "stdout",
     "output_type": "stream",
     "text": [
      "This function is in school.\n",
      "This function is in student 1. \n"
     ]
    }
   ],
   "source": [
    "class School:\n",
    "    def func1(self):\n",
    "        print(\"This function is in school.\")\n",
    " \n",
    " \n",
    "class Student1(School):\n",
    "    def func2(self):\n",
    "        print(\"This function is in student 1. \")\n",
    " \n",
    " \n",
    "class Student2(School):\n",
    "    def func3(self):\n",
    "        print(\"This function is in student 2.\")\n",
    " \n",
    " \n",
    "class Student3(Student1, School):\n",
    "    def func4(self):\n",
    "        print(\"This function is in student 3.\")\n",
    " \n",
    " \n",
    "# Driver's code\n",
    "object = Student3()\n",
    "object.func1()\n",
    "object.func2()"
   ]
  },
  {
   "cell_type": "code",
   "execution_count": null,
   "id": "7d979590-0935-4a6e-a3a1-2d2625ea20ce",
   "metadata": {},
   "outputs": [],
   "source": []
  }
 ],
 "metadata": {
  "kernelspec": {
   "display_name": "Python 3 (ipykernel)",
   "language": "python",
   "name": "python3"
  },
  "language_info": {
   "codemirror_mode": {
    "name": "ipython",
    "version": 3
   },
   "file_extension": ".py",
   "mimetype": "text/x-python",
   "name": "python",
   "nbconvert_exporter": "python",
   "pygments_lexer": "ipython3",
   "version": "3.10.8"
  }
 },
 "nbformat": 4,
 "nbformat_minor": 5
}
