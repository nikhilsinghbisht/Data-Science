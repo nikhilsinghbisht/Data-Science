{
 "cells": [
  {
   "cell_type": "code",
   "execution_count": 9,
   "id": "aa990cd6-beda-4f25-847a-2b7b9d8a57b1",
   "metadata": {},
   "outputs": [
    {
     "data": {
      "text/plain": [
       "'Valid Password'"
      ]
     },
     "execution_count": 9,
     "metadata": {},
     "output_type": "execute_result"
    }
   ],
   "source": [
    "#Ans 1\n",
    "def func(passwrd):\n",
    "    if len(passwrd) < 10:\n",
    "        return \"Invalid Password\"\n",
    "         \n",
    "    up,lo,di,sy=0,0,0,0\n",
    "    SpecialSym =['$', '@', '#', '%']\n",
    "    for ch in passwrd:\n",
    "        if ch in SpecialSym:\n",
    "            sy+=1\n",
    "        elif ch.isdigit():\n",
    "            di+=1\n",
    "        elif ch.isupper():\n",
    "            up+=1\n",
    "        elif ch.islower():\n",
    "            lo+=1\n",
    "         \n",
    "        \n",
    "    if up>1 and lo>1 and di>0 and sy>2:\n",
    "        return \"Valid Password\"\n",
    "    else:\n",
    "        return \"Invalid Password\"\n",
    "    \n",
    "func(\"#Lock$Down@321\")\n"
   ]
  },
  {
   "cell_type": "code",
   "execution_count": 10,
   "id": "6c866fae-5647-44dc-ba93-a30d992e934c",
   "metadata": {},
   "outputs": [
    {
     "data": {
      "text/plain": [
       "'Invalid Password'"
      ]
     },
     "execution_count": 10,
     "metadata": {},
     "output_type": "execute_result"
    }
   ],
   "source": [
    "func(\"helloWorld$343\")"
   ]
  },
  {
   "cell_type": "code",
   "execution_count": 3,
   "id": "f34a58fa-0d3e-4878-ba16-1e4da95f2f69",
   "metadata": {},
   "outputs": [
    {
     "name": "stdin",
     "output_type": "stream",
     "text": [
      "enter string nikhil\n",
      "enter char for which string start to check: a\n"
     ]
    },
    {
     "name": "stdout",
     "output_type": "stream",
     "text": [
      "False\n"
     ]
    }
   ],
   "source": [
    "#Ans2\n",
    "#i.\n",
    "a=lambda st,y:True if st[0]==y else False\n",
    "st=input(\"enter string\");\n",
    "y=input(\"enter char for which string start to check:\");\n",
    "print(a(st,y));\n",
    "\n"
   ]
  },
  {
   "cell_type": "code",
   "execution_count": 6,
   "id": "903a4c67-4870-4e91-bd6b-ebd93f61d8e5",
   "metadata": {},
   "outputs": [
    {
     "name": "stdin",
     "output_type": "stream",
     "text": [
      "enter string: hk998j\n"
     ]
    },
    {
     "name": "stdout",
     "output_type": "stream",
     "text": [
      "False\n"
     ]
    }
   ],
   "source": [
    "#ii.\n",
    "s=input(\"enter string:\")\n",
    "res=lambda x:x.isdigit()\n",
    "print(res(s))"
   ]
  },
  {
   "cell_type": "code",
   "execution_count": 7,
   "id": "2c90bfc7-6def-4a6b-9647-d0d2b855cb7c",
   "metadata": {},
   "outputs": [
    {
     "data": {
      "text/plain": [
       "[('orange', 80), ('mango', 99), ('grapes', 1000)]"
      ]
     },
     "execution_count": 7,
     "metadata": {},
     "output_type": "execute_result"
    }
   ],
   "source": [
    "#iii.\n",
    "l=[(\"mango\",99),(\"orange\",80), (\"grapes\", 1000)]\n",
    "l.sort(key=lambda x:x[1])\n",
    "l"
   ]
  },
  {
   "cell_type": "code",
   "execution_count": 8,
   "id": "38407a1e-d127-493d-a677-69460e63f0c9",
   "metadata": {},
   "outputs": [
    {
     "data": {
      "text/plain": [
       "[1, 4, 9, 16, 25, 36, 49, 64, 81, 100]"
      ]
     },
     "execution_count": 8,
     "metadata": {},
     "output_type": "execute_result"
    }
   ],
   "source": [
    "#iv\n",
    "res=[i*i for i in range(1,11)]\n",
    "res"
   ]
  },
  {
   "cell_type": "code",
   "execution_count": 10,
   "id": "68dd49ab-26cc-4309-892d-8210c642dd0b",
   "metadata": {},
   "outputs": [
    {
     "data": {
      "text/plain": [
       "[1.0,\n",
       " 1.2599210498948732,\n",
       " 1.4422495703074083,\n",
       " 1.5874010519681994,\n",
       " 1.7099759466766968,\n",
       " 1.8171205928321397,\n",
       " 1.912931182772389,\n",
       " 2.0,\n",
       " 2.080083823051904,\n",
       " 2.154434690031884]"
      ]
     },
     "execution_count": 10,
     "metadata": {},
     "output_type": "execute_result"
    }
   ],
   "source": [
    "#v\n",
    "cubrt=[i**(1/3) for i in range(1,11)]\n",
    "cubrt"
   ]
  },
  {
   "cell_type": "code",
   "execution_count": 13,
   "id": "467b400b-99f5-4163-a43a-ebedd19b3a3b",
   "metadata": {},
   "outputs": [
    {
     "name": "stdin",
     "output_type": "stream",
     "text": [
      "enter no: 5\n"
     ]
    },
    {
     "data": {
      "text/plain": [
       "False"
      ]
     },
     "execution_count": 13,
     "metadata": {},
     "output_type": "execute_result"
    }
   ],
   "source": [
    "#vi\n",
    "n=int(input(\"enter no:\"))\n",
    "var=lambda n:  n%2==0 \n",
    "var(n)"
   ]
  },
  {
   "cell_type": "code",
   "execution_count": 15,
   "id": "f5c43e83-3fcd-4bcf-a787-db841ed78e1c",
   "metadata": {},
   "outputs": [
    {
     "data": {
      "text/plain": [
       "[1, 3, 5, 7, 9]"
      ]
     },
     "execution_count": 15,
     "metadata": {},
     "output_type": "execute_result"
    }
   ],
   "source": [
    "#vii\n",
    "l=[1,2,3,4,5,6,7,8,9,10]\n",
    "list(filter(lambda x:x%2!=0,l))"
   ]
  },
  {
   "cell_type": "code",
   "execution_count": 19,
   "id": "d97d9aae-ac25-47c2-bb3c-d9dbf7104a0c",
   "metadata": {},
   "outputs": [
    {
     "name": "stdout",
     "output_type": "stream",
     "text": [
      "[1, 2, 3, 4, 5, 6, 0]\n",
      "[-1, -2, -3, -4, -5]\n"
     ]
    }
   ],
   "source": [
    "#viii\n",
    "def classi(l):\n",
    "    l1=[i  for i in l if i>=0 ]\n",
    "    l2=[i   for i in l if i<0]\n",
    "    print(l1)\n",
    "    print(l2)\n",
    "l=[1,2,3,4,5,6,-1,-2,-3,-4,-5,0]\n",
    "\n",
    "classi(l)"
   ]
  },
  {
   "cell_type": "code",
   "execution_count": null,
   "id": "414cdecd-cfa2-42a2-97d4-4dc23acd7677",
   "metadata": {},
   "outputs": [],
   "source": []
  }
 ],
 "metadata": {
  "kernelspec": {
   "display_name": "Python 3 (ipykernel)",
   "language": "python",
   "name": "python3"
  },
  "language_info": {
   "codemirror_mode": {
    "name": "ipython",
    "version": 3
   },
   "file_extension": ".py",
   "mimetype": "text/x-python",
   "name": "python",
   "nbconvert_exporter": "python",
   "pygments_lexer": "ipython3",
   "version": "3.10.8"
  }
 },
 "nbformat": 4,
 "nbformat_minor": 5
}
