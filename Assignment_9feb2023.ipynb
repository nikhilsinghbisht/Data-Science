{
 "cells": [
  {
   "cell_type": "code",
   "execution_count": 2,
   "id": "17d4195b-443a-4330-a18d-dc564da5404e",
   "metadata": {},
   "outputs": [],
   "source": [
    "#Ans1\n",
    "\n",
    "class vehicle:\n",
    "    def __init__(self,nameofvehicle,max_speed,avg):\n",
    "        self.name_of_vehicle=nameofvehicle\n",
    "        self.max_speed=max_speed\n",
    "        self.average_of_vehicle=avg\n",
    "    def detail(self):\n",
    "        print(self.name_of_vehicle,self.max_speed,self.average_of_vehicle)"
   ]
  },
  {
   "cell_type": "code",
   "execution_count": 3,
   "id": "782a592b-4a32-4520-80fc-cde1ed589cc4",
   "metadata": {},
   "outputs": [
    {
     "name": "stdout",
     "output_type": "stream",
     "text": [
      "Tesla 150 80\n"
     ]
    }
   ],
   "source": [
    "obj=vehicle(\"Tesla\",150,80)\n",
    "obj.detail()"
   ]
  },
  {
   "cell_type": "code",
   "execution_count": 4,
   "id": "3000dfed-38d8-4de3-9161-5df908f80169",
   "metadata": {},
   "outputs": [
    {
     "name": "stdout",
     "output_type": "stream",
     "text": [
      "bukati 6\n"
     ]
    }
   ],
   "source": [
    "#Ans 2\n",
    "class car(vehicle):\n",
    "    def seating_capacity(self,seat_capacity):\n",
    "        self.seat_c=seat_capacity\n",
    "        return self.name_of_vehicle,self.seat_c\n",
    "obj1=car(\"bukati\",140,70)\n",
    "a,b=obj1.seating_capacity(6)\n",
    "print(a,b)"
   ]
  },
  {
   "cell_type": "code",
   "execution_count": null,
   "id": "f21c6fc2-e21c-456c-9a67-b1a1d5f9830a",
   "metadata": {},
   "outputs": [],
   "source": [
    "#Ans3\n",
    "When a class is derived from more than one base class it is called multiple Inheritance. \n",
    "The derived class inherits all the features of the base case.\n",
    "\n",
    " "
   ]
  },
  {
   "cell_type": "code",
   "execution_count": 5,
   "id": "c0d1a27d-b38b-44bc-8016-b20228f28d38",
   "metadata": {},
   "outputs": [
    {
     "name": "stdout",
     "output_type": "stream",
     "text": [
      "In Class2\n"
     ]
    }
   ],
   "source": [
    "# Python Program to depict multiple inheritance\n",
    "# when method is overridden in both classes\n",
    "\n",
    "class Class1:\n",
    "\tdef m(self):\n",
    "\t\tprint(\"In Class1\")\n",
    "\t\n",
    "class Class2(Class1):\n",
    "\tdef m(self):\n",
    "\t\tprint(\"In Class2\")\n",
    "\n",
    "class Class3(Class1):\n",
    "\tdef m(self):\n",
    "\t\tprint(\"In Class3\")\n",
    "\t\t\n",
    "class Class4(Class2, Class3):\n",
    "\tpass\n",
    "\t\n",
    "obj = Class4()\n",
    "obj.m()\n"
   ]
  },
  {
   "cell_type": "code",
   "execution_count": null,
   "id": "23b0dbf0-c5a9-4ba6-a6d4-bbe8fb1b2c20",
   "metadata": {},
   "outputs": [],
   "source": [
    "#ans4\n",
    "In Python, getters and setters are not the same as those in other object-oriented programming languages. \n",
    "Basically, the main purpose of using getters and setters in object-oriented programs is to ensure data encapsulation.\n",
    "Private variables in python are not actually hidden fields like in other object oriented languages. \n",
    "Getters and Setters in python are often used when:\n",
    "\n",
    "We use getters & setters to add validation logic around getting and setting a value.\n",
    "To avoid direct access of a class field i.e. private variables cannot be accessed directly or modified by external user.\n"
   ]
  },
  {
   "cell_type": "code",
   "execution_count": 6,
   "id": "199b54b2-b0b6-4a24-a28e-5f8f8e3ed389",
   "metadata": {},
   "outputs": [
    {
     "name": "stdout",
     "output_type": "stream",
     "text": [
      "21\n",
      "21\n"
     ]
    }
   ],
   "source": [
    "# Python program showing a use\n",
    "# of get() and set() method in\n",
    "# normal function\n",
    "\n",
    "class Geek:\n",
    "\tdef __init__(self, age = 0):\n",
    "\t\tself._age = age\n",
    "\t\n",
    "\t# getter method\n",
    "\tdef get_age(self):\n",
    "\t\treturn self._age\n",
    "\t\n",
    "\t# setter method\n",
    "\tdef set_age(self, x):\n",
    "\t\tself._age = x\n",
    "\n",
    "raj = Geek()\n",
    "\n",
    "# setting the age using setter\n",
    "raj.set_age(21)\n",
    "\n",
    "# retrieving age using getter\n",
    "print(raj.get_age())\n",
    "\n",
    "print(raj._age)\n"
   ]
  },
  {
   "cell_type": "code",
   "execution_count": null,
   "id": "c85a1376-4b06-4b1e-900b-03023ed55d8b",
   "metadata": {},
   "outputs": [],
   "source": [
    "#Ans5\n",
    "Method overriding is an ability of any object-oriented programming language that allows a subclass or child class \n",
    "to provide a specific implementation of a method that is already provided by one of its super-classes or parent classes.\n",
    "When a method in a subclass has the same name, same parameters or signature and \n",
    "same return type(or sub-type) as a method in its super-class, then the method in the subclass is said to override the method in the \n",
    "super-class.\n",
    "\n"
   ]
  },
  {
   "cell_type": "code",
   "execution_count": 7,
   "id": "3e9cc6fd-b0c1-47b8-afce-e3f5d196e66a",
   "metadata": {},
   "outputs": [
    {
     "name": "stdout",
     "output_type": "stream",
     "text": [
      "Inside Parent\n",
      "Inside Child\n"
     ]
    }
   ],
   "source": [
    "# Python program to demonstrate\n",
    "# method overriding\n",
    "\n",
    "\n",
    "# Defining parent class\n",
    "class Parent():\n",
    "\t\n",
    "\t# Constructor\n",
    "\tdef __init__(self):\n",
    "\t\tself.value = \"Inside Parent\"\n",
    "\t\t\n",
    "\t# Parent's show method\n",
    "\tdef show(self):\n",
    "\t\tprint(self.value)\n",
    "\t\t\n",
    "# Defining child class\n",
    "class Child(Parent):\n",
    "\t\n",
    "\t# Constructor\n",
    "\tdef __init__(self):\n",
    "\t\tself.value = \"Inside Child\"\n",
    "\t\t\n",
    "\t# Child's show method\n",
    "\tdef show(self):\n",
    "\t\tprint(self.value)\n",
    "\t\t\n",
    "\t\t\n",
    "# Driver's code\n",
    "obj1 = Parent()\n",
    "obj2 = Child()\n",
    "\n",
    "obj1.show()\n",
    "obj2.show()\n"
   ]
  }
 ],
 "metadata": {
  "kernelspec": {
   "display_name": "Python 3 (ipykernel)",
   "language": "python",
   "name": "python3"
  },
  "language_info": {
   "codemirror_mode": {
    "name": "ipython",
    "version": 3
   },
   "file_extension": ".py",
   "mimetype": "text/x-python",
   "name": "python",
   "nbconvert_exporter": "python",
   "pygments_lexer": "ipython3",
   "version": "3.10.8"
  }
 },
 "nbformat": 4,
 "nbformat_minor": 5
}
