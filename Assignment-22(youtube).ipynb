{
 "cells": [
  {
   "cell_type": "code",
   "execution_count": 1,
   "id": "4eb152fa-cece-4e7c-98e1-94c0d6d56904",
   "metadata": {},
   "outputs": [
    {
     "name": "stdout",
     "output_type": "stream",
     "text": [
      "<Response [200]>\n"
     ]
    }
   ],
   "source": [
    "import requests\n",
    "from bs4 import BeautifulSoup\n",
    "from pandas import DataFrame\n",
    "from json import loads\n",
    "\n",
    "\n",
    "url = 'https://www.youtube.com/@PW-Foundation/videos'\n",
    "\n",
    "# Get the html by get method\n",
    "r = requests.get(url)\n",
    "print(r)\n",
    "\n",
    "# Create BeautifulSoup object\n",
    "soup = BeautifulSoup(r.text, 'html.parser')\n",
    "all_script_tags = soup.findAll('script')\n"
   ]
  },
  {
   "cell_type": "code",
   "execution_count": 2,
   "id": "9e9c46db-5610-40ff-bd63-bb84f213013b",
   "metadata": {},
   "outputs": [],
   "source": [
    "def script_tag_to_json(tags: list) -> dict:\n",
    "    for tag in reversed(tags):\n",
    "        text: str = tag.text\n",
    "        if 'ytInitialData = {\"responseContext\"' in text:\n",
    "            return loads(text[20:-1])\n",
    "\n",
    "    raise ValueError('Required script tag not found in the given tags.')"
   ]
  },
  {
   "cell_type": "code",
   "execution_count": 4,
   "id": "2f694f97-f02d-4a25-a007-ad9f927d2290",
   "metadata": {},
   "outputs": [],
   "source": [
    "data = script_tag_to_json(all_script_tags)\n",
    "\n",
    "#Return data from videos\n",
    "def get_contents_dict(data):\n",
    "    return data['contents']['twoColumnBrowseResultsRenderer']['tabs'][1]['tabRenderer']['content']['richGridRenderer']['contents']\n"
   ]
  },
  {
   "cell_type": "markdown",
   "id": "2a03e0a8-a3ef-417c-b73e-e04a72c28d00",
   "metadata": {},
   "source": [
    "Q1. Write a python program to extract the video URL of the first five videos."
   ]
  },
  {
   "cell_type": "code",
   "execution_count": 5,
   "id": "86e3a048-8f1e-4a62-ba34-bede8604fb10",
   "metadata": {},
   "outputs": [
    {
     "data": {
      "text/plain": [
       "['https://www.youtube.com/watch?v=PI1obes98Zc',\n",
       " 'https://www.youtube.com/watch?v=16fUsD0M1-I',\n",
       " 'https://www.youtube.com/watch?v=S0RySN5arvk',\n",
       " 'https://www.youtube.com/watch?v=HzBhwxMrt8A',\n",
       " 'https://www.youtube.com/watch?v=60_B3haKADw']"
      ]
     },
     "execution_count": 5,
     "metadata": {},
     "output_type": "execute_result"
    }
   ],
   "source": [
    "def get_videoUrl(data:dict, n: int = 5):\n",
    "    contents = get_contents_dict(data)\n",
    "\n",
    "    if n > 30:\n",
    "        raise ValueError('Max Limit is 30.')\n",
    "\n",
    "    result = []\n",
    "    for i in range(n):\n",
    "        result.append('https://www.youtube.com/watch?v=' +\n",
    "                      contents[i]['richItemRenderer']['content']['videoRenderer']['videoId'])\n",
    "\n",
    "    return result\n",
    "\n",
    "get_videoUrl(data)"
   ]
  },
  {
   "cell_type": "markdown",
   "id": "5484ad5a-6b26-466c-8cb6-e4e74a18483a",
   "metadata": {},
   "source": [
    "Q2. Write a python program to extract the URL of the video thumbnails of the first five videos."
   ]
  },
  {
   "cell_type": "code",
   "execution_count": 6,
   "id": "d10a00dc-8e35-4528-bc0f-d84c68936c76",
   "metadata": {},
   "outputs": [
    {
     "data": {
      "text/plain": [
       "['https://i.ytimg.com/vi/PI1obes98Zc/hqdefault.jpg?sqp=-oaymwEjCNACELwBSFryq4qpAxUIARUAAAAAGAElAADIQj0AgKJDeAE=&rs=AOn4CLCmDshrYrFfclOymZmlDi79xYzKMA',\n",
       " 'https://i.ytimg.com/vi/16fUsD0M1-I/hqdefault.jpg?sqp=-oaymwEjCNACELwBSFryq4qpAxUIARUAAAAAGAElAADIQj0AgKJDeAE=&rs=AOn4CLDSdB3RrY_91M4wFdU8WorfjHTrGA',\n",
       " 'https://i.ytimg.com/vi/S0RySN5arvk/hqdefault.jpg?sqp=-oaymwEjCNACELwBSFryq4qpAxUIARUAAAAAGAElAADIQj0AgKJDeAE=&rs=AOn4CLAMklN-udq5wIHmAyDjx4yd4HxvGg',\n",
       " 'https://i.ytimg.com/vi/HzBhwxMrt8A/hqdefault.jpg?sqp=-oaymwEjCNACELwBSFryq4qpAxUIARUAAAAAGAElAADIQj0AgKJDeAE=&rs=AOn4CLDhGQyUAc5A_0sapaGDI_uDE_GNrg',\n",
       " 'https://i.ytimg.com/vi/60_B3haKADw/hqdefault.jpg?sqp=-oaymwEjCNACELwBSFryq4qpAxUIARUAAAAAGAElAADIQj0AgKJDeAE=&rs=AOn4CLCz1LFTtDzJooWDMArb4Qfh74PC_w']"
      ]
     },
     "execution_count": 6,
     "metadata": {},
     "output_type": "execute_result"
    }
   ],
   "source": [
    "def get_thumbnails(data: dict, n: int = 5):\n",
    "    contents = get_contents_dict(data)\n",
    "\n",
    "    if n > 30:\n",
    "        raise ValueError('Max Limit is 30.')\n",
    "\n",
    "    result = []\n",
    "    for i in range(n):\n",
    "        result.append(contents[i]['richItemRenderer']['content']['videoRenderer']['thumbnail']['thumbnails'][-1]['url'])\n",
    "\n",
    "    return result\n",
    "\n",
    "get_thumbnails(data)"
   ]
  },
  {
   "cell_type": "markdown",
   "id": "b788189c-0b3e-4963-9476-9534b153a299",
   "metadata": {},
   "source": [
    "Q3. Write a python program to extract the title of the first five videos."
   ]
  },
  {
   "cell_type": "code",
   "execution_count": 7,
   "id": "68531989-1fe8-4732-93a8-05d5eac1696c",
   "metadata": {},
   "outputs": [
    {
     "data": {
      "text/plain": [
       "['How to score 95%+ in class 10th? Complete year Powerful Strategy!!',\n",
       " 'Last 4 Days Left For SST Exam || How To Manage to Score 80/80 in Boards || Class-10th',\n",
       " 'Benefits of Choosing Commerce After 10th | Commerce क्यों लेना चाहिए? | CBSE | ICSE | State Boards',\n",
       " 'Complete 𝗖𝗔𝗥𝗕𝗢𝗡 𝗔𝗡𝗗 𝗜𝗧𝗦 𝗖𝗢𝗠𝗣𝗢𝗨𝗡𝗗𝗦 in 90 Minutes | Class 10th Board Exam',\n",
       " 'Complete 𝗠𝗘𝗧𝗔𝗟𝗦 & 𝗡𝗢𝗡 𝗠𝗘𝗧𝗔𝗟𝗦  in 120 Minutes | Class 10th Board Exam']"
      ]
     },
     "execution_count": 7,
     "metadata": {},
     "output_type": "execute_result"
    }
   ],
   "source": [
    "def get_title(data: dict, n:int = 5):\n",
    "    contents = get_contents_dict(data)\n",
    "\n",
    "    if n > 30:\n",
    "        raise ValueError('Max Limit is 30.')\n",
    "\n",
    "    result = []\n",
    "    for i in range(n):\n",
    "        result.append(contents[i]['richItemRenderer']['content']['videoRenderer']['title']['runs'][-1]['text'])\n",
    "\n",
    "    return result\n",
    "\n",
    "get_title(data)\n"
   ]
  },
  {
   "cell_type": "markdown",
   "id": "23fcea57-56bd-42ce-bfbe-9b94d2c0ea22",
   "metadata": {},
   "source": [
    "Q4. Write a python program to extract the number of views of the first five videos."
   ]
  },
  {
   "cell_type": "code",
   "execution_count": 8,
   "id": "ae89c0c1-deae-465e-9d9c-3dbedc3256fd",
   "metadata": {},
   "outputs": [
    {
     "data": {
      "text/plain": [
       "[149581, 67866, 27251, 41702, 22759]"
      ]
     },
     "execution_count": 8,
     "metadata": {},
     "output_type": "execute_result"
    }
   ],
   "source": [
    "def get_viwes(data: dict, n: int = 5):\n",
    "    contents = get_contents_dict(data)\n",
    "\n",
    "    if n > 30:\n",
    "        raise ValueError('Max Limit is 30.')\n",
    "\n",
    "    result = []\n",
    "    for i in range(n):\n",
    "        result.append(int(contents[i]['richItemRenderer']['content']['videoRenderer']['viewCountText']['simpleText']\n",
    "                      [:-6].replace(',', '')))\n",
    "\n",
    "    return result\n",
    "\n",
    "get_viwes(data)\n"
   ]
  },
  {
   "cell_type": "markdown",
   "id": "adeada22-f185-495c-ac53-7a795950b99b",
   "metadata": {},
   "source": [
    "Q5. Write a python program to extract the time of posting of video for the first five videos."
   ]
  },
  {
   "cell_type": "code",
   "execution_count": 9,
   "id": "3793b27f-b82f-4d83-8106-147cd3e7b72d",
   "metadata": {},
   "outputs": [
    {
     "data": {
      "text/plain": [
       "['7 days ago', '7 days ago', '11 days ago', '2 weeks ago', '2 weeks ago']"
      ]
     },
     "execution_count": 9,
     "metadata": {},
     "output_type": "execute_result"
    }
   ],
   "source": [
    "def get_time_of_posting(data: dict, n: int = 5):\n",
    "    contents = get_contents_dict(data)\n",
    "\n",
    "    if n > 30:\n",
    "        raise ValueError('Max Limit is 30.')\n",
    "\n",
    "    result = []\n",
    "    for i in range(n):\n",
    "        result.append(contents[i]['richItemRenderer']['content']['videoRenderer']['publishedTimeText']['simpleText'])\n",
    "\n",
    "    return result\n",
    "\n",
    "get_time_of_posting(data)"
   ]
  },
  {
   "cell_type": "markdown",
   "id": "dbf9e488-de13-4ec7-b7ad-1158ce822491",
   "metadata": {},
   "source": [
    "Save all the data scraped in the above questions in a CSV file."
   ]
  },
  {
   "cell_type": "code",
   "execution_count": 10,
   "id": "d3f07058-30a8-43c5-b432-f1cdb4850c85",
   "metadata": {},
   "outputs": [],
   "source": [
    "def get_channel_video_details(data: dict, n: int):\n",
    "    thumbnails = get_thumbnails(data, n)\n",
    "    time_of_posting = get_time_of_posting(data, n)\n",
    "    titles = get_title(data, n)\n",
    "    video_urls = get_videoUrl(data, n)\n",
    "\n",
    "    main_data = list(zip(video_urls, titles, thumbnails, time_of_posting))\n",
    "    \n",
    "    df = DataFrame.from_dict(main_data)\n",
    "    df.rename(\n",
    "        columns={\n",
    "            0: 'video_urls',\n",
    "            1: 'title',\n",
    "            2: 'thumbnail_url',\n",
    "            3: 'time_of_posting'\n",
    "        }, inplace=True)\n",
    "\n",
    "    return df\n",
    "\n",
    "channel_data = get_channel_video_details(data, 30)\n",
    "channel_data.to_csv('PW-Foundation.csv', index=False)"
   ]
  },
  {
   "cell_type": "code",
   "execution_count": null,
   "id": "455f38ae-5d7b-4abf-80f9-f83af0b15fac",
   "metadata": {},
   "outputs": [],
   "source": []
  }
 ],
 "metadata": {
  "kernelspec": {
   "display_name": "Python 3 (ipykernel)",
   "language": "python",
   "name": "python3"
  },
  "language_info": {
   "codemirror_mode": {
    "name": "ipython",
    "version": 3
   },
   "file_extension": ".py",
   "mimetype": "text/x-python",
   "name": "python",
   "nbconvert_exporter": "python",
   "pygments_lexer": "ipython3",
   "version": "3.10.8"
  }
 },
 "nbformat": 4,
 "nbformat_minor": 5
}
