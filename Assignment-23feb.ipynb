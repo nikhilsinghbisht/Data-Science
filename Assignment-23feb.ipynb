{
 "cells": [
  {
   "cell_type": "code",
   "execution_count": 1,
   "id": "c65f1221-5e7f-424b-b1cb-6f5a45a11704",
   "metadata": {},
   "outputs": [
    {
     "data": {
      "text/plain": [
       "0     4\n",
       "1     8\n",
       "2    15\n",
       "3    16\n",
       "4    23\n",
       "5    42\n",
       "dtype: int64"
      ]
     },
     "execution_count": 1,
     "metadata": {},
     "output_type": "execute_result"
    }
   ],
   "source": [
    "#Ans 1\n",
    "\n",
    "import pandas as pd\n",
    "\n",
    "# create a Pandas Series with the given data\n",
    "data = pd.Series([4, 8, 15, 16, 23, 42])\n",
    "\n",
    "# print the Series\n",
    "data\n"
   ]
  },
  {
   "cell_type": "code",
   "execution_count": 2,
   "id": "70d47d15-3298-44bc-aec8-b6001f40f493",
   "metadata": {},
   "outputs": [
    {
     "data": {
      "text/plain": [
       "0     1\n",
       "1     2\n",
       "2     3\n",
       "3     4\n",
       "4     5\n",
       "5     6\n",
       "6     7\n",
       "7     8\n",
       "8     9\n",
       "9    10\n",
       "dtype: int64"
      ]
     },
     "execution_count": 2,
     "metadata": {},
     "output_type": "execute_result"
    }
   ],
   "source": [
    "#Ans 2\n",
    "\n",
    "# create a list with 10 elements\n",
    "my_list = [1, 2, 3, 4, 5, 6, 7, 8, 9, 10]\n",
    "\n",
    "# convert the list to a Pandas Series\n",
    "my_series = pd.Series(my_list)\n",
    "\n",
    "# print the series\n",
    "my_series\n"
   ]
  },
  {
   "cell_type": "code",
   "execution_count": 3,
   "id": "0e75a08d-57d8-4146-bf27-897214ea5056",
   "metadata": {},
   "outputs": [
    {
     "data": {
      "text/html": [
       "<div>\n",
       "<style scoped>\n",
       "    .dataframe tbody tr th:only-of-type {\n",
       "        vertical-align: middle;\n",
       "    }\n",
       "\n",
       "    .dataframe tbody tr th {\n",
       "        vertical-align: top;\n",
       "    }\n",
       "\n",
       "    .dataframe thead th {\n",
       "        text-align: right;\n",
       "    }\n",
       "</style>\n",
       "<table border=\"1\" class=\"dataframe\">\n",
       "  <thead>\n",
       "    <tr style=\"text-align: right;\">\n",
       "      <th></th>\n",
       "      <th>Name</th>\n",
       "      <th>Age</th>\n",
       "      <th>Gender</th>\n",
       "    </tr>\n",
       "  </thead>\n",
       "  <tbody>\n",
       "    <tr>\n",
       "      <th>0</th>\n",
       "      <td>Alice</td>\n",
       "      <td>25</td>\n",
       "      <td>Female</td>\n",
       "    </tr>\n",
       "    <tr>\n",
       "      <th>1</th>\n",
       "      <td>Bob</td>\n",
       "      <td>30</td>\n",
       "      <td>Male</td>\n",
       "    </tr>\n",
       "    <tr>\n",
       "      <th>2</th>\n",
       "      <td>Claire</td>\n",
       "      <td>27</td>\n",
       "      <td>Female</td>\n",
       "    </tr>\n",
       "  </tbody>\n",
       "</table>\n",
       "</div>"
      ],
      "text/plain": [
       "     Name  Age  Gender\n",
       "0   Alice   25  Female\n",
       "1     Bob   30    Male\n",
       "2  Claire   27  Female"
      ]
     },
     "execution_count": 3,
     "metadata": {},
     "output_type": "execute_result"
    }
   ],
   "source": [
    "#Ans 3\n",
    "\n",
    "data = {'Name': ['Alice', 'Bob', 'Claire'],\n",
    "        'Age': [25, 30, 27],\n",
    "        'Gender': ['Female', 'Male' , 'Female']}\n",
    "\n",
    "# create a DataFrame from the dictionary\n",
    "df = pd.DataFrame(data)\n",
    "df"
   ]
  },
  {
   "cell_type": "code",
   "execution_count": null,
   "id": "86532554-f96e-492a-b774-aa992af02dd1",
   "metadata": {},
   "outputs": [],
   "source": [
    "#Ans 4\n",
    "In Pandas, a DataFrame is a two-dimensional table-like data structure, similar to a spreadsheet or SQL table. It consists of rows and columns, where\n",
    "each column can have a different data type, and each row represents a unique observation or record. A DataFrame can be created from various data \n",
    "sources, such as CSV files, Excel spreadsheets, SQL databases, or Python data structures.\n",
    "\n",
    "On the other hand, a Pandas Series is a one-dimensional labeled array that can hold data of any type, including integer, float, string, and object. \n",
    "It can be seen as a single column of a DataFrame or a dictionary-like object that maps index labels to data values. Each element of a Series is \n",
    "assigned a label, which can be used to access individual elements of the Series."
   ]
  },
  {
   "cell_type": "code",
   "execution_count": 4,
   "id": "11758649-4566-4f7d-8db3-04f90cf0eda1",
   "metadata": {},
   "outputs": [],
   "source": [
    "# create a dictionary with some data\n",
    "data = {'name': ['Alice', 'Bob', 'Charlie', 'David'],\n",
    "        'age': [25, 30, 35, 40],\n",
    "        'city': ['New York', 'Paris', 'London', 'Tokyo']}\n",
    "\n",
    "# create a DataFrame from the dictionary\n",
    "df = pd.DataFrame(data)\n",
    "\n",
    "# create a Series from one of the columns of the DataFrame\n",
    "name_series = df['name']\n"
   ]
  },
  {
   "cell_type": "code",
   "execution_count": 5,
   "id": "c2708e3a-f41b-42e0-95d2-ee7575688aa1",
   "metadata": {},
   "outputs": [
    {
     "data": {
      "text/plain": [
       "{'name': ['Alice', 'Bob', 'Charlie', 'David'],\n",
       " 'age': [25, 30, 35, 40],\n",
       " 'city': ['New York', 'Paris', 'London', 'Tokyo']}"
      ]
     },
     "execution_count": 5,
     "metadata": {},
     "output_type": "execute_result"
    }
   ],
   "source": [
    "data"
   ]
  },
  {
   "cell_type": "code",
   "execution_count": 6,
   "id": "dd78f515-24b4-40ee-b2bd-c2a89fb32805",
   "metadata": {},
   "outputs": [
    {
     "data": {
      "text/plain": [
       "0      Alice\n",
       "1        Bob\n",
       "2    Charlie\n",
       "3      David\n",
       "Name: name, dtype: object"
      ]
     },
     "execution_count": 6,
     "metadata": {},
     "output_type": "execute_result"
    }
   ],
   "source": [
    "name_series"
   ]
  },
  {
   "cell_type": "code",
   "execution_count": null,
   "id": "41bb8d7f-c08b-4a26-aba5-9576ba6de4a9",
   "metadata": {},
   "outputs": [],
   "source": [
    "#Ans 5\n",
    "There are many built-in functions in Pandas that can be used to manipulate data in a DataFrame. Here are some common functions:\n",
    "\n",
    "head() and tail(): These functions are used to display the first or last few rows of a DataFrame, respectively. For example:\n",
    "# create a DataFrame from a CSV file\n",
    "df = pd.read_csv('data.csv')\n",
    "\n",
    "# display the first five rows of the DataFrame\n",
    "print(df.head())\n",
    "\n",
    "# display the last three rows of the DataFrame\n",
    "print(df.tail(3))\n",
    "\n",
    "2.describe(): This function provides a statistical summary of the DataFrame, including the count, mean, standard deviation, minimum, maximum, and \n",
    "quartiles of each column. For example:\n",
    "\n",
    "# create a DataFrame from a CSV file\n",
    "df = pd.read_csv('data.csv')\n",
    "\n",
    "# display a statistical summary of the DataFrame\n",
    "print(df.describe())\n",
    "\n",
    "3. drop(): This function is used to remove a row or column from the DataFrame. For example:\n",
    "    \n",
    "# create a DataFrame from a CSV file\n",
    "df = pd.read_csv('data.csv')\n",
    "\n",
    "# remove a column from the DataFrame\n",
    "df = df.drop('column_name', axis=1)\n",
    "\n",
    "# remove a row from the DataFrame\n",
    "df = df.drop(0)\n",
    "\n",
    "4. sort_values(): This function is used to sort the DataFrame by one or more columns. For example:\n",
    "    \n",
    "# create a DataFrame from a CSV file\n",
    "df = pd.read_csv('data.csv')\n",
    "\n",
    "# sort the DataFrame by the 'column_name' column in descending order\n",
    "df = df.sort_values('column_name', ascending=False)\n",
    "\n",
    "5. groupby(): This function is used to group the DataFrame by one or more columns and perform some operation on each group. For example:\n",
    "    \n",
    "    # create a DataFrame from a CSV file\n",
    "df = pd.read_csv('data.csv')\n",
    "\n",
    "# group the DataFrame by the 'column_name' column and calculate the mean of each group\n",
    "df = df.groupby('column_name').mean()"
   ]
  },
  {
   "cell_type": "code",
   "execution_count": null,
   "id": "8619b986-eab9-4926-8b46-caef86b1912e",
   "metadata": {},
   "outputs": [],
   "source": [
    "#Ans 6\n",
    "Series and DataFrame are mutable in nature, while Panel is immutable.\n",
    "\n",
    "In Pandas, a mutable object can be changed after it has been created, while an immutable object cannot be changed after it has been created.\n",
    "\n",
    "Series and DataFrame can be modified by adding, deleting, or updating their elements. On the other hand, Panel is a 3D data structure and it is \n",
    "considered immutable because it does not support inplace modifications. Instead, Panel returns a new object when any changes are made to it."
   ]
  },
  {
   "cell_type": "code",
   "execution_count": null,
   "id": "94856135-2da1-4adf-a796-ac9e801bf6ab",
   "metadata": {},
   "outputs": [],
   "source": [
    "#Ans 7\n",
    "\n",
    "To create a DataFrame using multiple Series, you can use the pd.concat() function. This function concatenates two or more Series or DataFrames along \n",
    "a particular axis.\n",
    "\n",
    "Here is an example of creating a DataFrame using two Series:"
   ]
  },
  {
   "cell_type": "code",
   "execution_count": 7,
   "id": "6f51b4f0-628b-4944-bcb8-44a1029f3f4b",
   "metadata": {},
   "outputs": [
    {
     "name": "stdout",
     "output_type": "stream",
     "text": [
      "   col1 col2\n",
      "0     1    a\n",
      "1     2    b\n",
      "2     3    c\n",
      "3     4    d\n",
      "4     5    e\n"
     ]
    }
   ],
   "source": [
    "# create the first Series\n",
    "s1 = pd.Series([1, 2, 3, 4, 5], name='col1')\n",
    "\n",
    "# create the second Series\n",
    "s2 = pd.Series(['a', 'b', 'c', 'd', 'e'], name='col2')\n",
    "\n",
    "# concatenate the two Series along the columns axis to create a DataFrame\n",
    "df = pd.concat([s1, s2], axis=1)\n",
    "\n",
    "# display the DataFrame\n",
    "print(df)"
   ]
  },
  {
   "cell_type": "code",
   "execution_count": null,
   "id": "748d9011-2dce-440b-bb43-88cfe7c2d03d",
   "metadata": {},
   "outputs": [],
   "source": [
    "In this example, we first created two separate Series s1 and s2, and then concatenated them along the columns axis using pd.concat(). We passed both \n",
    "Series to pd.concat() as a list, and set the axis parameter to 1 to indicate that we wanted to concatenate along the columns axis. Finally, we assigned\n",
    "the resulting DataFrame to the variable df and printed it using the print() function."
   ]
  }
 ],
 "metadata": {
  "kernelspec": {
   "display_name": "Python 3 (ipykernel)",
   "language": "python",
   "name": "python3"
  },
  "language_info": {
   "codemirror_mode": {
    "name": "ipython",
    "version": 3
   },
   "file_extension": ".py",
   "mimetype": "text/x-python",
   "name": "python",
   "nbconvert_exporter": "python",
   "pygments_lexer": "ipython3",
   "version": "3.10.8"
  }
 },
 "nbformat": 4,
 "nbformat_minor": 5
}
