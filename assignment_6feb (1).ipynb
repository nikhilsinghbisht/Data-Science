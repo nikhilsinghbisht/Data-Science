{
 "cells": [
  {
   "cell_type": "code",
   "execution_count": 1,
   "id": "c1c0879d-b1f8-40fc-bb13-cfa45db27829",
   "metadata": {},
   "outputs": [
    {
     "data": {
      "text/plain": [
       "4134711838987085478833841242112000"
      ]
     },
     "execution_count": 1,
     "metadata": {},
     "output_type": "execute_result"
    }
   ],
   "source": [
    "#Ans 1\n",
    "\n",
    "def func(l):\n",
    "    ans=[]\n",
    "    for item in l:\n",
    "        if type(item) is int:\n",
    "            ans.append(item)\n",
    "            continue\n",
    "        if type(item) is list:\n",
    "            for i in item:\n",
    "                if type(i) is int:\n",
    "                    ans.append(i)\n",
    "        elif type(item) is tuple:\n",
    "            for i in item:\n",
    "                if type(i)  is int:\n",
    "                    ans.append(i)\n",
    "        elif type(item) is set:\n",
    "            for i in item:\n",
    "                if type(i)  is int:\n",
    "                    ans.append(i)\n",
    "        elif type(item) is dict:\n",
    "            for i in item:\n",
    "                if type(i)  is int:\n",
    "                    ans.append(i)\n",
    "                if type(item[i]) is int:\n",
    "                    ans.append(item[i])\n",
    "                elif type(item[i]) is list:\n",
    "                    for k in item[i]:\n",
    "                        if type(k) is int:\n",
    "                            ans.append(k)\n",
    "                elif type(item[i]) is tuple:\n",
    "                    for k in item[i]:\n",
    "                        if type(k)  is int:\n",
    "                            ans.append(k)\n",
    "                elif type(item[i]) is set:\n",
    "                    for k in item[i]:\n",
    "                        if type(k) is int:\n",
    "                            ans.append(k)\n",
    "        \n",
    "    prod=1\n",
    "    for j in ans:\n",
    "        prod=prod*j\n",
    "    return prod\n",
    "        \n",
    "list1 = [1,2,3,4, [44,55,66, True], False, (34,56,78,89,34), {1,2,3,3,2,1}, {1:34, \"key2\": [55, 67, 78, 89], 4: (45,\n",
    "22, 61, 34)}, [56, 'data science'], 'Machine Learning']\n",
    "\n",
    "func(list1)"
   ]
  },
  {
   "cell_type": "code",
   "execution_count": 2,
   "id": "bf139c58-7bbb-45ac-8a34-a9f0686d979b",
   "metadata": {},
   "outputs": [
    {
     "name": "stdin",
     "output_type": "stream",
     "text": [
      "Enter your data I want to become a Data Scientist.\n"
     ]
    },
    {
     "name": "stdout",
     "output_type": "stream",
     "text": [
      "r$dzmg$gl$yvxlnv$z$wzgz$hxrvmgrhg.\n"
     ]
    }
   ],
   "source": [
    "# ANS 2\n",
    "\n",
    "st=input(\"Enter your data\").lower()\n",
    "enmsg=\"\"\n",
    "for i in st:\n",
    "    if i==' ':\n",
    "        enmsg=enmsg+\"$\"\n",
    "    elif i>='a' and i<='z':\n",
    "        val=ord(i)-ord('a')\n",
    "        ch=chr(ord('z')-val)\n",
    "        enmsg=enmsg+ch\n",
    "    else:\n",
    "        enmsg=enmsg+i\n",
    "print(enmsg)"
   ]
  },
  {
   "cell_type": "code",
   "execution_count": null,
   "id": "6bb58aea-1883-4716-af98-e199a16e74e5",
   "metadata": {},
   "outputs": [],
   "source": []
  }
 ],
 "metadata": {
  "kernelspec": {
   "display_name": "Python 3 (ipykernel)",
   "language": "python",
   "name": "python3"
  },
  "language_info": {
   "codemirror_mode": {
    "name": "ipython",
    "version": 3
   },
   "file_extension": ".py",
   "mimetype": "text/x-python",
   "name": "python",
   "nbconvert_exporter": "python",
   "pygments_lexer": "ipython3",
   "version": "3.10.8"
  }
 },
 "nbformat": 4,
 "nbformat_minor": 5
}
