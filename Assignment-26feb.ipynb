{
 "cells": [
  {
   "cell_type": "code",
   "execution_count": 2,
   "id": "014f2c8c-456d-4d65-8a5c-1c5b3b0d475e",
   "metadata": {},
   "outputs": [],
   "source": [
    "import numpy as np\n",
    "list_ = [ '1' , '2' , '3' , '4' , '5' ]\n",
    "array_list = np.array(object = list_)\n"
   ]
  },
  {
   "cell_type": "code",
   "execution_count": null,
   "id": "21b3fb56-5c1c-4810-971a-e84d104e171c",
   "metadata": {},
   "outputs": [],
   "source": [
    "#Ans1\n",
    "\n",
    "Yes, there is a difference in the data type of variables list_ and array_list. The variable list_ is a Python list object, while array_list is a numpy\n",
    "array object.\n"
   ]
  },
  {
   "cell_type": "code",
   "execution_count": 3,
   "id": "fb4dcfde-18ee-4e8f-a694-1e074fc4afa3",
   "metadata": {},
   "outputs": [
    {
     "name": "stdout",
     "output_type": "stream",
     "text": [
      "Data type of list_ variable: <class 'list'>\n",
      "Data type of array_list variable: <class 'numpy.ndarray'>\n"
     ]
    }
   ],
   "source": [
    "print(\"Data type of list_ variable:\", type(list_))\n",
    "print(\"Data type of array_list variable:\", type(array_list))\n"
   ]
  },
  {
   "cell_type": "code",
   "execution_count": 4,
   "id": "60f0d530-26a6-4a25-9a5f-c7316512f6c6",
   "metadata": {},
   "outputs": [
    {
     "name": "stdout",
     "output_type": "stream",
     "text": [
      "Element value : 1, datatype = <class 'str'>\n",
      "Element value : 2, datatype = <class 'str'>\n",
      "Element value : 3, datatype = <class 'str'>\n",
      "Element value : 4, datatype = <class 'str'>\n",
      "Element value : 5, datatype = <class 'str'>\n"
     ]
    }
   ],
   "source": [
    "#Ans 2\n",
    "\n",
    "# Printing data types of each and every element in list_:\n",
    "for i in list_:\n",
    "    print(f'Element value : {i}, datatype = {type(i)}')"
   ]
  },
  {
   "cell_type": "code",
   "execution_count": 5,
   "id": "99ac10f6-f1b3-41e9-9388-ff22e778023c",
   "metadata": {},
   "outputs": [
    {
     "name": "stdout",
     "output_type": "stream",
     "text": [
      "Element value : 1, datatype = <class 'numpy.str_'>\n",
      "Element value : 2, datatype = <class 'numpy.str_'>\n",
      "Element value : 3, datatype = <class 'numpy.str_'>\n",
      "Element value : 4, datatype = <class 'numpy.str_'>\n",
      "Element value : 5, datatype = <class 'numpy.str_'>\n"
     ]
    }
   ],
   "source": [
    "# Printing data types of each and every element in array_list\n",
    "for i in array_list:\n",
    "    print(f'Element value : {i}, datatype = {type(i)}')\n"
   ]
  },
  {
   "cell_type": "code",
   "execution_count": null,
   "id": "e6b8e84b-905f-4bcb-836c-3b1af03adcfa",
   "metadata": {},
   "outputs": [],
   "source": []
  },
  {
   "cell_type": "code",
   "execution_count": 6,
   "id": "94830b49-14e8-434a-847d-5b75791f34d9",
   "metadata": {},
   "outputs": [],
   "source": [
    "array_list = np.array(object = list_, dtype = int)"
   ]
  },
  {
   "cell_type": "code",
   "execution_count": null,
   "id": "afa2457d-0f82-4cc9-ae9f-b91bce202dcb",
   "metadata": {},
   "outputs": [],
   "source": [
    "#ans 3\n",
    "\n",
    "Yes There will be difference in datatypes of elements present in both lists.\n",
    "List elements will have data type string and array_list will have datatype numpy integer\n",
    "Below is code for showing same"
   ]
  },
  {
   "cell_type": "code",
   "execution_count": 7,
   "id": "2fa604d8-1da6-4a87-b037-1a677d1259fd",
   "metadata": {},
   "outputs": [
    {
     "name": "stdout",
     "output_type": "stream",
     "text": [
      "Element value : 1, datatype = <class 'str'>\n",
      "Element value : 2, datatype = <class 'str'>\n",
      "Element value : 3, datatype = <class 'str'>\n",
      "Element value : 4, datatype = <class 'str'>\n",
      "Element value : 5, datatype = <class 'str'>\n"
     ]
    }
   ],
   "source": [
    "# Printing data types of each and every element in list_:\n",
    "for i in list_:\n",
    "    print(f'Element value : {i}, datatype = {type(i)}')"
   ]
  },
  {
   "cell_type": "code",
   "execution_count": 8,
   "id": "18151070-d3f1-43c3-961f-442de99444d4",
   "metadata": {},
   "outputs": [
    {
     "name": "stdout",
     "output_type": "stream",
     "text": [
      "Element value : 1, datatype = <class 'numpy.int64'>\n",
      "Element value : 2, datatype = <class 'numpy.int64'>\n",
      "Element value : 3, datatype = <class 'numpy.int64'>\n",
      "Element value : 4, datatype = <class 'numpy.int64'>\n",
      "Element value : 5, datatype = <class 'numpy.int64'>\n"
     ]
    }
   ],
   "source": [
    "# Printing data types of each and every element in array_list\n",
    "for i in array_list:\n",
    "    print(f'Element value : {i}, datatype = {type(i)}')\n"
   ]
  },
  {
   "cell_type": "code",
   "execution_count": null,
   "id": "5fdb87c8-0457-44bf-b00f-0a36b6a620ba",
   "metadata": {},
   "outputs": [],
   "source": []
  },
  {
   "cell_type": "code",
   "execution_count": 9,
   "id": "bb0dd63c-16e4-4835-8513-87b0d5c5e7bd",
   "metadata": {},
   "outputs": [],
   "source": [
    "num_list = [ [ 1 , 2 , 3 ] , [ 4 , 5 , 6 ] ]\n",
    "num_array = np.array(object = num_list)"
   ]
  },
  {
   "cell_type": "code",
   "execution_count": 10,
   "id": "816e711b-66b7-4da4-a72b-5eb70d5e81f9",
   "metadata": {},
   "outputs": [
    {
     "data": {
      "text/plain": [
       "(2, 3)"
      ]
     },
     "execution_count": 10,
     "metadata": {},
     "output_type": "execute_result"
    }
   ],
   "source": [
    "#ans 4\n",
    "\n",
    "# Showing num_array shape\n",
    "num_array.shape"
   ]
  },
  {
   "cell_type": "code",
   "execution_count": 11,
   "id": "abd4202a-8620-42d5-8e2e-5c746fead5f2",
   "metadata": {},
   "outputs": [
    {
     "data": {
      "text/plain": [
       "6"
      ]
     },
     "execution_count": 11,
     "metadata": {},
     "output_type": "execute_result"
    }
   ],
   "source": [
    "# Showing num_array size\n",
    "num_array.size"
   ]
  },
  {
   "cell_type": "code",
   "execution_count": 12,
   "id": "c87ff1c9-1b48-406f-95d1-c0365e53b99a",
   "metadata": {},
   "outputs": [
    {
     "data": {
      "text/plain": [
       "array([[0., 0., 0.],\n",
       "       [0., 0., 0.],\n",
       "       [0., 0., 0.]])"
      ]
     },
     "execution_count": 12,
     "metadata": {},
     "output_type": "execute_result"
    }
   ],
   "source": [
    "#Ans 5\n",
    "\n",
    "# Using np.zeros to create a 3X3 matrix containing zeros\n",
    "arr5 = np.zeros((3,3))\n",
    "arr5"
   ]
  },
  {
   "cell_type": "code",
   "execution_count": 13,
   "id": "7d39f93e-13cf-4944-b5b6-b097be51595b",
   "metadata": {},
   "outputs": [
    {
     "name": "stdout",
     "output_type": "stream",
     "text": [
      "Size of arr5 is 9\n",
      "Shape of arr5 is (3, 3)\n"
     ]
    }
   ],
   "source": [
    "# Verifying Matrix size and shape\n",
    "print(f'Size of arr5 is {arr5.size}')\n",
    "print(f'Shape of arr5 is {arr5.shape}')"
   ]
  },
  {
   "cell_type": "code",
   "execution_count": 14,
   "id": "6537f30c-0625-4393-82df-948e0ddfa0a4",
   "metadata": {},
   "outputs": [
    {
     "data": {
      "text/plain": [
       "array([[1., 0., 0., 0., 0.],\n",
       "       [0., 1., 0., 0., 0.],\n",
       "       [0., 0., 1., 0., 0.],\n",
       "       [0., 0., 0., 1., 0.],\n",
       "       [0., 0., 0., 0., 1.]])"
      ]
     },
     "execution_count": 14,
     "metadata": {},
     "output_type": "execute_result"
    }
   ],
   "source": [
    "#Ans 6\n",
    "\n",
    "# Creating identity matrix using np.eye\n",
    "arr6 = np.eye(5)\n",
    "arr6"
   ]
  },
  {
   "cell_type": "code",
   "execution_count": null,
   "id": "044c4bbb-ab16-40d0-8c31-5f946e220529",
   "metadata": {},
   "outputs": [],
   "source": []
  }
 ],
 "metadata": {
  "kernelspec": {
   "display_name": "Python 3 (ipykernel)",
   "language": "python",
   "name": "python3"
  },
  "language_info": {
   "codemirror_mode": {
    "name": "ipython",
    "version": 3
   },
   "file_extension": ".py",
   "mimetype": "text/x-python",
   "name": "python",
   "nbconvert_exporter": "python",
   "pygments_lexer": "ipython3",
   "version": "3.10.8"
  }
 },
 "nbformat": 4,
 "nbformat_minor": 5
}
