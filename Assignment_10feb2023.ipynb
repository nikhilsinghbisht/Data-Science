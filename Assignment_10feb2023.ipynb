{
 "cells": [
  {
   "cell_type": "code",
   "execution_count": null,
   "id": "872d6e32-0370-4498-9b57-e38b8ddb678e",
   "metadata": {},
   "outputs": [],
   "source": [
    "#Ans1\n",
    "\n",
    "open() is used to open a file in python\n",
    "\n",
    "There are 6 access modes in python.\n",
    "\n",
    "Read Only (‘r’): Open text file for reading. The handle is positioned at the beginning of the file. If the file does not exist, raises an I/O error.\n",
    "This is also the default mode in which the file is opened.\n",
    "\n",
    "Read and Write (‘r+’): Open the file for reading and writing. The handle is positioned at the beginning of the file. \n",
    "Raises I/O error if the file does not exist.\n",
    "\n",
    "Write Only (‘w’): Open the file for writing. For the existing files, the data is truncated and over-written.\n",
    "The handle is positioned at the beginning of the file. Creates the file if the file does not exist.\n",
    "\n",
    "Write and Read (‘w+’): Open the file for reading and writing. For existing files, data is truncated and over-written. \n",
    "\n",
    "The handle is positioned at the beginning of the file.\n",
    "Append Only (‘a’): Open the file for writing. The file is created if it does not exist. The handle is positioned at the end of the file.\n",
    "The data being written will be inserted at the end, after the existing data.\n",
    "\n",
    "Append and Read (‘a+’): Open the file for reading and writing. The file is created if it does not exist. \n",
    "The handle is positioned at the end of the file. The data being written will be inserted at the end, after the existing data.\n",
    "\n",
    "Read Only in Binary format(‘rb’):  It lets the user open the file for reading in binary format.\n",
    "\n",
    "Read and Write in Binary Format(‘rb+’): It lets the user open the file for reading and writing in binary format.\n",
    "\n",
    "\n",
    "Write Only in Binary Format(‘wb’): It lets the user open the file for writing in binary format. \n",
    "When a file gets opened in this mode, there are two things that can happen mostly. A new file gets created if the file does not exist. \n",
    "The content within the file will get overwritten if the file exists and has some data stored in it. \n",
    "\n",
    "Write and Read in Binary Format(‘wb+’):  It lets the user open the file for reading as well as writing in binary format. \n",
    "When a file gets opened in this mode, there are two things that can mostly happen.A new file gets created for writing and reading\n",
    "if the file does not exist. The content within the file will get overwritten if the file exists and has some data stored in it. \n",
    "\n",
    "Append only in Binary Format(‘ab’): It lets the user open the file for appending in binary format. A new file gets created if there is no file.\n",
    "The data will be inserted at the end if the file exists and has some data stored in it. \n",
    "\n",
    "Append and Read in Binary Format(‘ab+’): It lets the user open the file for appending and reading in binary format. A new file will be created\n",
    "for reading and appending if the file does not exist. We can read and append if the file exists and has some data stored in it.  "
   ]
  },
  {
   "cell_type": "code",
   "execution_count": 1,
   "id": "b0a2a57a-8ea4-4e3a-9c2c-a0460f16601f",
   "metadata": {},
   "outputs": [],
   "source": [
    "file1 = open(\"myfile.txt\" , \"a\" )\n",
    " \n",
    "# Writing to file\n",
    "file1.write(\"\\nWriting to file:)\" )\n",
    " \n",
    "# Closing file\n",
    "file1.close()"
   ]
  },
  {
   "cell_type": "code",
   "execution_count": 2,
   "id": "55fa3911-3b55-42eb-ad3a-48cecf463ee4",
   "metadata": {},
   "outputs": [
    {
     "data": {
      "text/plain": [
       "'\\nWriting to file:)'"
      ]
     },
     "execution_count": 2,
     "metadata": {},
     "output_type": "execute_result"
    }
   ],
   "source": [
    "file1 = open(\"myfile.txt\" , \"r\" )\n",
    " \n",
    "\n",
    "file1.read()"
   ]
  },
  {
   "cell_type": "code",
   "execution_count": null,
   "id": "08fc9013-54a3-4800-a2fe-d7f6610634bb",
   "metadata": {},
   "outputs": [],
   "source": []
  },
  {
   "cell_type": "code",
   "execution_count": null,
   "id": "a6e38579-e964-4a9d-8fb5-81c174533371",
   "metadata": {},
   "outputs": [],
   "source": [
    "#Ans2\n",
    "The close() function closes the connection between the program and an open file identified by a handle. \n",
    "Any unwritten system buffers are flushed to the disk, and system resources used by the file are released\n",
    "\n",
    "Closing a file has the following consequences:\n",
    "\n",
    "1)The file descriptor is deallocated.\n",
    "2) Any record locks owned by the process on the file are unlocked.\n",
    "3) When all file descriptors associated with a pipe or FIFO have been closed, any unread data is"
   ]
  },
  {
   "cell_type": "code",
   "execution_count": 3,
   "id": "4a17f2e9-0770-47bc-80a3-2fdd4c262f51",
   "metadata": {
    "jp-MarkdownHeadingCollapsed": true,
    "tags": []
   },
   "outputs": [],
   "source": [
    "#Ans3\n",
    "file2 = open(\"myfile.txt\" , \"w\" )\n",
    " \n",
    "# Writing to file\n",
    "file2.write(\"I want to become Data Scientist\" )\n",
    " \n",
    "# Closing file\n",
    "file2.close()\n"
   ]
  },
  {
   "cell_type": "code",
   "execution_count": 4,
   "id": "888cb52f-86c1-4875-a7c5-ed6906996c45",
   "metadata": {},
   "outputs": [
    {
     "data": {
      "text/plain": [
       "'I want to become Data Scientist'"
      ]
     },
     "execution_count": 4,
     "metadata": {},
     "output_type": "execute_result"
    }
   ],
   "source": [
    "file2 = open(\"myfile.txt\" , \"r\" )\n",
    " \n",
    "file2.read()\n",
    " \n"
   ]
  },
  {
   "cell_type": "code",
   "execution_count": null,
   "id": "0931e247-9bb3-4f91-8c7f-6194977cbe89",
   "metadata": {},
   "outputs": [],
   "source": [
    "#Ans4\n",
    "read() reads the entire file and returns a string, \n",
    "readline() reads just one line from a file, and \n",
    "readlines() returns a list of strings representing the lines of the file.\n"
   ]
  },
  {
   "cell_type": "code",
   "execution_count": 20,
   "id": "8a8a2907-477e-4010-a476-3099d8afc31d",
   "metadata": {},
   "outputs": [],
   "source": [
    "file3 = open(\"myfile.txt\" , \"w\" )\n",
    " \n",
    "# Writing to file\n",
    "file3.write(\"I am learning Data Science\" )\n",
    "file3.write(\"I want to become Data Scientist\\n\")\n",
    "file3.write(\"Data Science Masters course is highly curated and uniquely designed according to the latest industry standards. This program instills students the skills essential to knowledge discovery efforts to identify standard, novel, and truly differentiated solutions and decision-making, including skills in managing, querying, analyzing, visualizing, and extracting meaning from extremely large data sets. This trending program provides students with the statistical, mathematical and computational skills needed to meet the large-scale data science challenges of today's professional world. You will learn all the stack required to work in data science industry including cloud infrastructure and real-time industry projects.\")\n",
    "# Closing file\n",
    "file3.close()"
   ]
  },
  {
   "cell_type": "code",
   "execution_count": 21,
   "id": "3a2ca9de-b3f5-45f2-b086-2202ce79e406",
   "metadata": {},
   "outputs": [
    {
     "data": {
      "text/plain": [
       "\"I am learning Data ScienceI want to become Data Scientist\\nData Science Masters course is highly curated and uniquely designed according to the latest industry standards. This program instills students the skills essential to knowledge discovery efforts to identify standard, novel, and truly differentiated solutions and decision-making, including skills in managing, querying, analyzing, visualizing, and extracting meaning from extremely large data sets. This trending program provides students with the statistical, mathematical and computational skills needed to meet the large-scale data science challenges of today's professional world. You will learn all the stack required to work in data science industry including cloud infrastructure and real-time industry projects.\""
      ]
     },
     "execution_count": 21,
     "metadata": {},
     "output_type": "execute_result"
    }
   ],
   "source": [
    "#read\n",
    "with open(\"myfile.txt\") as f:\n",
    "    content = f.read()\n",
    "content"
   ]
  },
  {
   "cell_type": "code",
   "execution_count": 22,
   "id": "4eebdf0e-47a3-47a5-9707-548b5980c54d",
   "metadata": {},
   "outputs": [],
   "source": [
    "#readline\n",
    "with open(\"myfile.txt\") as f:\n",
    "    first_line = f.readline()\n",
    "    second_line = f.readline()\n"
   ]
  },
  {
   "cell_type": "code",
   "execution_count": 23,
   "id": "a1f7f2ff-b194-4c47-b8b8-d50e6e1e52d2",
   "metadata": {},
   "outputs": [
    {
     "data": {
      "text/plain": [
       "'I am learning Data ScienceI want to become Data Scientist\\n'"
      ]
     },
     "execution_count": 23,
     "metadata": {},
     "output_type": "execute_result"
    }
   ],
   "source": [
    "first_line"
   ]
  },
  {
   "cell_type": "code",
   "execution_count": 24,
   "id": "1b5dc488-9c1d-4c0c-b35a-ea03987dd611",
   "metadata": {},
   "outputs": [
    {
     "data": {
      "text/plain": [
       "\"Data Science Masters course is highly curated and uniquely designed according to the latest industry standards. This program instills students the skills essential to knowledge discovery efforts to identify standard, novel, and truly differentiated solutions and decision-making, including skills in managing, querying, analyzing, visualizing, and extracting meaning from extremely large data sets. This trending program provides students with the statistical, mathematical and computational skills needed to meet the large-scale data science challenges of today's professional world. You will learn all the stack required to work in data science industry including cloud infrastructure and real-time industry projects.\""
      ]
     },
     "execution_count": 24,
     "metadata": {},
     "output_type": "execute_result"
    }
   ],
   "source": [
    "second_line"
   ]
  },
  {
   "cell_type": "code",
   "execution_count": 25,
   "id": "12514180-b777-4d8a-82c8-f90a80617186",
   "metadata": {},
   "outputs": [
    {
     "name": "stdout",
     "output_type": "stream",
     "text": [
      "I am learning Data ScienceI want to become Data Scientist\n",
      "\n",
      "Data Science Masters course is highly curated and uniquely designed according to the latest industry standards. This program instills students the skills essential to knowledge discovery efforts to identify standard, novel, and truly differentiated solutions and decision-making, including skills in managing, querying, analyzing, visualizing, and extracting meaning from extremely large data sets. This trending program provides students with the statistical, mathematical and computational skills needed to meet the large-scale data science challenges of today's professional world. You will learn all the stack required to work in data science industry including cloud infrastructure and real-time industry projects.\n"
     ]
    }
   ],
   "source": [
    "#readlines\n",
    "myfile = open(\"myfile.txt\", \"r\")\n",
    "\n",
    "lines = myfile.readlines()\n",
    "\n",
    "for line in lines:\n",
    "    print(line)"
   ]
  },
  {
   "cell_type": "code",
   "execution_count": null,
   "id": "de8aa42b-917c-40dc-a5b6-c775a9b1cff4",
   "metadata": {},
   "outputs": [],
   "source": [
    "#Ans5\n",
    "In Python, with statement is used in exception handling to make the code cleaner and much more readable. \n",
    "It simplifies the management of common resources like file streams.there is no need to call file.close() when using with statement. \n",
    "The with statement itself ensures proper acquisition and release of resources. An exception during the file.write() call in the first \n",
    "implementation can prevent the file from closing properly which may introduce several bugs in the code, i.e. many changes in files do \n",
    "not go into effect until the file is properly closed.but using the with statement makes the code compact and much more readable. \n",
    "Thus, with statement helps avoiding bugs and leaks by ensuring that a resource is properly released when the code using the resource is \n",
    "completely executed. The with statement is popularly used with file streams, as shown above and with Locks, sockets, subprocesses and telnets etc."
   ]
  },
  {
   "cell_type": "code",
   "execution_count": null,
   "id": "aa52bab2-35b3-4388-aa29-ffdae0323598",
   "metadata": {},
   "outputs": [],
   "source": [
    "#Ans6\n",
    "write(arg) expects a string as argument and writes it to the file. If you provide a list of strings, it will raise an exception .\n",
    "\n",
    "writelines(arg) expects an iterable as argument (an iterable object can be a tuple, a list, a string, or an iterator in the most general sense). \n",
    "Each item contained in the iterator is expected to be a string. A tuple of strings is what you provided, so things worked.\n",
    "\n",
    "The only difference between the write() and writelines() is that write() is used to write a string to an already opened file\n",
    "while writelines() method is used to write a list of strings in an opened file."
   ]
  },
  {
   "cell_type": "code",
   "execution_count": 27,
   "id": "90635509-e182-4ee3-ad7c-660af9275fea",
   "metadata": {},
   "outputs": [
    {
     "name": "stdin",
     "output_type": "stream",
     "text": [
      "Enter the name of the employee:  nikhil\n",
      "Enter the name of the employee:  deepak\n",
      "Enter the name of the employee:  abhishek\n"
     ]
    },
    {
     "name": "stdout",
     "output_type": "stream",
     "text": [
      "Data is written into the file.\n"
     ]
    }
   ],
   "source": [
    "file = open(\"Employees.txt\", \"w\")\n",
    "\n",
    "for i in range(3):\n",
    "    name = input(\"Enter the name of the employee: \")\n",
    "    file.write(name)\n",
    "    file.write(\"\\n\")\n",
    "\t\n",
    "file.close()\n",
    "\n",
    "print(\"Data is written into the file.\")\n"
   ]
  },
  {
   "cell_type": "code",
   "execution_count": 28,
   "id": "b9033f70-e4cb-4a2d-bd6c-08f03ea1ea03",
   "metadata": {},
   "outputs": [
    {
     "name": "stdin",
     "output_type": "stream",
     "text": [
      "Enter the name of the employee:  nikhil\n",
      "Enter the name of the employee:  deepak\n",
      "Enter the name of the employee:  abhishek\n"
     ]
    },
    {
     "name": "stdout",
     "output_type": "stream",
     "text": [
      "Data is written into the file.\n"
     ]
    }
   ],
   "source": [
    "file1 = open(\"Employees1.txt\", \"w\")\n",
    "lst = []\n",
    "for i in range(3):\n",
    "\tname = input(\"Enter the name of the employee: \")\n",
    "\tlst.append(name + '\\n')\n",
    "\t\n",
    "file1.writelines(lst)\n",
    "file1.close()\n",
    "print(\"Data is written into the file.\")\n"
   ]
  },
  {
   "cell_type": "code",
   "execution_count": null,
   "id": "450a06ef-5229-41e3-95ff-d1d44262000e",
   "metadata": {},
   "outputs": [],
   "source": []
  }
 ],
 "metadata": {
  "kernelspec": {
   "display_name": "Python 3 (ipykernel)",
   "language": "python",
   "name": "python3"
  },
  "language_info": {
   "codemirror_mode": {
    "name": "ipython",
    "version": 3
   },
   "file_extension": ".py",
   "mimetype": "text/x-python",
   "name": "python",
   "nbconvert_exporter": "python",
   "pygments_lexer": "ipython3",
   "version": "3.10.8"
  }
 },
 "nbformat": 4,
 "nbformat_minor": 5
}
