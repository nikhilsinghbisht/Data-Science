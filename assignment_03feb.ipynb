{
 "cells": [
  {
   "cell_type": "markdown",
   "id": "6ab8b8a1-eb66-44b9-8160-300fb1635a8a",
   "metadata": {},
   "source": [
    "Ans 1. def keyword is used to create function in python\n",
    "def function_name():\n",
    "    body"
   ]
  },
  {
   "cell_type": "code",
   "execution_count": 2,
   "id": "6e57d3e5-cd7d-4091-809b-29aaebb2271a",
   "metadata": {},
   "outputs": [],
   "source": [
    "def print_odd():\n",
    "    for i in range(1,25):\n",
    "        if(i%2 != 0):\n",
    "            print(i)\n",
    "            \n"
   ]
  },
  {
   "cell_type": "code",
   "execution_count": 4,
   "id": "2a3ad829-d3b5-4953-a45c-f31d31e44161",
   "metadata": {},
   "outputs": [
    {
     "name": "stdout",
     "output_type": "stream",
     "text": [
      "1\n",
      "3\n",
      "5\n",
      "7\n",
      "9\n",
      "11\n",
      "13\n",
      "15\n",
      "17\n",
      "19\n",
      "21\n",
      "23\n"
     ]
    }
   ],
   "source": [
    "print_odd()"
   ]
  },
  {
   "cell_type": "raw",
   "id": "ae473fa1-5932-4e47-880a-663d4dac7f29",
   "metadata": {},
   "source": [
    "Ans2. *args - The special syntax *args in function definitions in python is used to pass a variable number of arguments to a function. It is used to pass a non-key worded, variable-length argument list. \n",
    "e.g\n",
    "def func1(*args):\n",
    "    return args\n",
    "func1(2,4,5,\"ram\",[4,5,7,4])\n",
    ">>(2, 4, 5, 'ram', [4, 5, 7, 4])\n",
    "\n",
    "**kwargs - The special syntax **kwargs in function definitions in python is used to pass a keyworded, variable-length argument list. We use the name kwargs with the double star. The reason is that the double star allows us to pass through keyword arguments (and any number of them).\n",
    "e.g\n",
    "def func2(**kwargs):\n",
    "      for key, value in kwargs.items():\n",
    "        print(key, value)\n",
    "        \n",
    "func2(a=\"first\",b=\"second\")\n",
    ">>a first\n",
    "  b second"
   ]
  },
  {
   "cell_type": "code",
   "execution_count": 5,
   "id": "ea4dc781-74f0-4d38-85a5-197825676b7c",
   "metadata": {},
   "outputs": [
    {
     "data": {
      "text/plain": [
       "(2, 4, 5, 'ram', [4, 5, 7, 4])"
      ]
     },
     "execution_count": 5,
     "metadata": {},
     "output_type": "execute_result"
    }
   ],
   "source": [
    "def func1(*args):\n",
    "    return args\n",
    "func1(2,4,5,\"ram\",[4,5,7,4])"
   ]
  },
  {
   "cell_type": "code",
   "execution_count": 6,
   "id": "ccd35a10-7287-4f48-bcac-4a4f392182da",
   "metadata": {},
   "outputs": [
    {
     "name": "stdout",
     "output_type": "stream",
     "text": [
      "a first\n",
      "b second\n"
     ]
    }
   ],
   "source": [
    "def func2(**kwargs):\n",
    "      for key, value in kwargs.items():\n",
    "        print(key, value)\n",
    "        \n",
    "func2(a=\"first\",b=\"second\")"
   ]
  },
  {
   "cell_type": "raw",
   "id": "eb48afc3-0bb8-465d-b407-41ddda44e2e7",
   "metadata": {},
   "source": [
    "Ans3. Iterator in Python is an object that is used to iterate over iterable objects like lists, tuples, dicts, and sets. The iterator object is initialized using the iter() method. It uses the next() method for iteration.\n",
    "\n",
    "__iter__(): The iter() method is called for the initialization of an iterator. This returns an iterator object\n",
    "__next__(): The next method returns the next value for the iterable. When we use a for loop to traverse any iterable object, internally it uses the iter() method to get an iterator object, which further uses the next() method to iterate over. This method raises a StopIteration to signal the end of the iteration."
   ]
  },
  {
   "cell_type": "code",
   "execution_count": 1,
   "id": "8b6dfd82-44a8-4783-9aaf-d1c666ce8161",
   "metadata": {},
   "outputs": [
    {
     "name": "stdout",
     "output_type": "stream",
     "text": [
      "2\n",
      "4\n",
      "6\n",
      "8\n",
      "10\n"
     ]
    }
   ],
   "source": [
    "l=[2, 4, 6, 8, 10, 12, 14, 16, 18, 20]\n",
    "it=iter(l)\n",
    "for i in range(1,6):\n",
    "    print(next(it))"
   ]
  },
  {
   "cell_type": "raw",
   "id": "30962b35-2ad9-4a30-a7ff-d14918982469",
   "metadata": {},
   "source": [
    "Ans4. In Python, a generator is a function that returns an iterator that produces a sequence of values when iterated over.\n",
    "Generators are useful when we want to produce a large sequence of values, but we don't want to store all of them in memory at once.\n",
    "\n",
    "In Python, similar to defining a normal function, we can define a generator function using the def keyword, but instead of the return statement we use the yield statement.\n",
    "When the generator function is called, it does not execute the function body immediately. Instead, it returns a generator object that can be iterated over to produce the values.\n",
    "yield keyword is used to create a generator function. A type of function that is memory efficient and can be used like an iterator object.The yield keyword will turn any expression that is given with it into a generator object and return it to the caller. Therefore, you must iterate over the generator object if you wish to obtain the values stored there."
   ]
  },
  {
   "cell_type": "code",
   "execution_count": 2,
   "id": "d1161219-4df6-411c-b39b-f8d8e0a439ab",
   "metadata": {},
   "outputs": [
    {
     "name": "stdout",
     "output_type": "stream",
     "text": [
      "<class 'generator'>\n",
      "Hello\n",
      "World!!\n"
     ]
    }
   ],
   "source": [
    "def fun_generator():\n",
    "    yield \"Hello\"\n",
    "    yield \"World!!\"\n",
    " \n",
    " \n",
    "obj = fun_generator()\n",
    " \n",
    "print(type(obj))\n",
    " \n",
    "print(next(obj))\n",
    "print(next(obj))"
   ]
  },
  {
   "cell_type": "code",
   "execution_count": 5,
   "id": "16333f08-9f13-4351-8b30-f487e4d7a61d",
   "metadata": {},
   "outputs": [
    {
     "name": "stdout",
     "output_type": "stream",
     "text": [
      "2\n",
      "3\n",
      "5\n",
      "7\n",
      "11\n",
      "13\n",
      "17\n",
      "19\n",
      "23\n",
      "29\n",
      "31\n",
      "37\n",
      "41\n",
      "43\n",
      "47\n",
      "53\n",
      "59\n",
      "61\n",
      "67\n",
      "71\n"
     ]
    }
   ],
   "source": [
    "#  Ans 5.\n",
    "import math\n",
    "\n",
    "def check_prime():\n",
    "    \n",
    "    for count in range(2,1000):\n",
    "        isprime = True\n",
    "        \n",
    "        for x in range(2, int(math.sqrt(count) + 1)):\n",
    "            if count % x == 0: \n",
    "                isprime = False\n",
    "                break\n",
    "        \n",
    "        if isprime:\n",
    "            yield count\n",
    "      \n",
    "x=check_prime()\n",
    "\n",
    "for i in range(20):\n",
    "    print(next(x))"
   ]
  },
  {
   "cell_type": "code",
   "execution_count": null,
   "id": "b8c27ff6-2a04-4c5e-b6d4-c79584ff89e1",
   "metadata": {},
   "outputs": [],
   "source": []
  }
 ],
 "metadata": {
  "kernelspec": {
   "display_name": "Python 3 (ipykernel)",
   "language": "python",
   "name": "python3"
  },
  "language_info": {
   "codemirror_mode": {
    "name": "ipython",
    "version": 3
   },
   "file_extension": ".py",
   "mimetype": "text/x-python",
   "name": "python",
   "nbconvert_exporter": "python",
   "pygments_lexer": "ipython3",
   "version": "3.10.8"
  }
 },
 "nbformat": 4,
 "nbformat_minor": 5
}
