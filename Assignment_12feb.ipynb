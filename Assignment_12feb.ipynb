{
 "cells": [
  {
   "cell_type": "code",
   "execution_count": null,
   "id": "fa87a0e3-5123-4889-8d14-e86371cafda8",
   "metadata": {},
   "outputs": [],
   "source": [
    "#Ans1\n",
    "\n",
    "An exception is an event, which occurs during the execution of a program that disrupts the normal flow of the program's instructions.\n",
    "In general, when a Python script encounters a situation that it cannot cope with, it raises an exception. An exception is a Python object \n",
    "that represents an error.\n",
    "When a Python script raises an exception, it must either handle the exception immediately otherwise it terminates and quits.\n",
    "\n",
    "Syntax Error: As the name suggests this error is caused by the wrong syntax in the code. It leads to the termination of the program. \n",
    "Exceptions: Exceptions are raised when the program is syntactically correct, but the code resulted in an error. This error does not stop\n",
    "the execution of the program, however, it changes the normal flow of the program.\n",
    "\n",
    "Error in Python can be of two types i.e. Syntax errors and Exceptions. Errors are the problems in a program due to which the program will \n",
    "stop the execution. On the other hand, exceptions are raised when some internal events occur which changes the normal flow of the program. "
   ]
  },
  {
   "cell_type": "code",
   "execution_count": null,
   "id": "30f51f60-0dad-4d6b-9efa-65ba83b995a2",
   "metadata": {},
   "outputs": [],
   "source": [
    "#Ans2\n",
    "\n",
    "If an exception occurs in function C but is not handled in C, the exception passes to B and then to A. If never handled, an error message is \n",
    "displayed and our program comes to a sudden unexpected halt. In Python, exceptions can be handled using a try statement. The critical operation\n",
    "which can raise an exception is placed inside the try clause."
   ]
  },
  {
   "cell_type": "code",
   "execution_count": 1,
   "id": "eec8f8a2-5283-463d-9b46-4fd6db6bd691",
   "metadata": {},
   "outputs": [
    {
     "ename": "ZeroDivisionError",
     "evalue": "division by zero",
     "output_type": "error",
     "traceback": [
      "\u001b[0;31m---------------------------------------------------------------------------\u001b[0m",
      "\u001b[0;31mZeroDivisionError\u001b[0m                         Traceback (most recent call last)",
      "Cell \u001b[0;32mIn[1], line 4\u001b[0m\n\u001b[1;32m      1\u001b[0m \u001b[38;5;66;03m#e.g\u001b[39;00m\n\u001b[1;32m      3\u001b[0m a\u001b[38;5;241m=\u001b[39m\u001b[38;5;241m12\u001b[39m\n\u001b[0;32m----> 4\u001b[0m b\u001b[38;5;241m=\u001b[39m\u001b[43ma\u001b[49m\u001b[38;5;241;43m/\u001b[39;49m\u001b[38;5;241;43m0\u001b[39;49m\n\u001b[1;32m      5\u001b[0m c\u001b[38;5;241m=\u001b[39ma\u001b[38;5;241m+\u001b[39mb\n\u001b[1;32m      6\u001b[0m \u001b[38;5;28mprint\u001b[39m(c)\n",
      "\u001b[0;31mZeroDivisionError\u001b[0m: division by zero"
     ]
    }
   ],
   "source": [
    "#e.g\n",
    "\n",
    "a=12\n",
    "b=a/0\n",
    "c=a+b\n",
    "print(c)"
   ]
  },
  {
   "cell_type": "code",
   "execution_count": null,
   "id": "4ea97e5f-3348-4ee2-bfda-b2fff97463a4",
   "metadata": {},
   "outputs": [],
   "source": [
    "#Ans3\n",
    "Try and except statements are used to catch and handle exceptions in Python. Statements that can raise exceptions are kept inside the\n",
    "try clause and the statements that handle the exception are written inside except clause.\n",
    "A try statement can have more than one except clause, to specify handlers for different exceptions. \n",
    "\n"
   ]
  },
  {
   "cell_type": "code",
   "execution_count": 2,
   "id": "99810973-a318-46b9-b01d-0ea87135b509",
   "metadata": {},
   "outputs": [
    {
     "name": "stdout",
     "output_type": "stream",
     "text": [
      "Divided by zero exception\n"
     ]
    }
   ],
   "source": [
    "#e.g\n",
    "\n",
    "try:\n",
    "    a=12\n",
    "    b=a/0\n",
    "    c=a+b\n",
    "    print(c)\n",
    "except ZeroDivisionError:\n",
    "    print(\"Divided by zero exception\")"
   ]
  },
  {
   "cell_type": "code",
   "execution_count": null,
   "id": "4c9a5592-255c-45c4-b302-7f131532838e",
   "metadata": {},
   "outputs": [],
   "source": [
    "#Ans4\n",
    "\n",
    "Try: This block will test the excepted error to occur\n",
    "Except:  Here you can handle the error\n",
    "Else: If there is no exception then this block will be executed\n",
    "Finally: Finally block always gets executed either exception is generated or not\n",
    "\n",
    "First try clause is executed i.e. the code between try and except clause.\n",
    "If there is no exception, then only try clause will run, except clause will not get executed.\n",
    "If any exception occurs, the try clause will be skipped and except clause will run.\n",
    "If any exception occurs, but the except clause within the code doesn’t handle it, it is passed on to the outer try statements. \n",
    "If the exception is left unhandled, then the execution stops.\n",
    "A try statement can have more than one except clause.\n",
    "Else block will execute only when no exception occurs.\n"
   ]
  },
  {
   "cell_type": "code",
   "execution_count": 3,
   "id": "2825c6fb-812e-42b3-9442-f103e77e78c2",
   "metadata": {},
   "outputs": [
    {
     "name": "stdout",
     "output_type": "stream",
     "text": [
      "Yeah ! Your answer is : 1\n",
      "Sorry ! You are dividing by zero \n"
     ]
    }
   ],
   "source": [
    "def divide(x, y):\n",
    "    try:\n",
    "        # Floor Division : Gives only Fractional\n",
    "        # Part as Answer\n",
    "        result = x // y\n",
    "    except ZeroDivisionError:\n",
    "        print(\"Sorry ! You are dividing by zero \")\n",
    "    else:\n",
    "        print(\"Yeah ! Your answer is :\", result)\n",
    "   \n",
    "\n",
    "divide(3, 2)\n",
    "divide(3, 0)"
   ]
  },
  {
   "cell_type": "code",
   "execution_count": null,
   "id": "bba89beb-4660-4c51-8a72-bb124a9bbfef",
   "metadata": {},
   "outputs": [],
   "source": [
    "b- Finally Keyword:\n",
    "Python provides a keyword finally, which is always executed after try and except blocks. The finally block always executes after normal\n",
    "termination of try block or after try block terminates due to some exception. Even if you return in the except block still the finally \n",
    "block will execute\n"
   ]
  },
  {
   "cell_type": "code",
   "execution_count": 4,
   "id": "60d39a43-fd8d-46d6-aacc-7187716dab9e",
   "metadata": {},
   "outputs": [
    {
     "name": "stdout",
     "output_type": "stream",
     "text": [
      "Yeah ! Your answer is : 1\n",
      "This is always executed\n",
      "Sorry ! You are dividing by zero \n",
      "This is always executed\n"
     ]
    }
   ],
   "source": [
    "def divide(x, y):\n",
    "    try:\n",
    "        # Floor Division : Gives only Fractional\n",
    "        # Part as Answer\n",
    "        result = x // y\n",
    "    except ZeroDivisionError:\n",
    "        print(\"Sorry ! You are dividing by zero \")\n",
    "    else:\n",
    "        print(\"Yeah ! Your answer is :\", result)\n",
    "    finally: \n",
    "        # this block is always executed  \n",
    "        # regardless of exception generation. \n",
    "        print('This is always executed')  \n",
    " \n",
    "divide(3, 2)\n",
    "divide(3, 0)"
   ]
  },
  {
   "cell_type": "code",
   "execution_count": null,
   "id": "8638b2f3-8ea4-47aa-a110-f310cbbf1b6d",
   "metadata": {},
   "outputs": [],
   "source": [
    "c- Python raise Keyword is used to raise exceptions or errors. The raise keyword raises an error and stops the control flow of the program. \n",
    "It is used to bring up the current exception in an exception handler so that it can be handled further up the call stack.\n"
   ]
  },
  {
   "cell_type": "code",
   "execution_count": 8,
   "id": "3db2734e-3eb8-4fe9-8b0b-e1475c6322bf",
   "metadata": {},
   "outputs": [
    {
     "ename": "Exception",
     "evalue": "The number shouldn't be an odd integer",
     "output_type": "error",
     "traceback": [
      "\u001b[0;31m---------------------------------------------------------------------------\u001b[0m",
      "\u001b[0;31mException\u001b[0m                                 Traceback (most recent call last)",
      "Cell \u001b[0;32mIn[8], line 4\u001b[0m\n\u001b[1;32m      1\u001b[0m a \u001b[38;5;241m=\u001b[39m \u001b[38;5;241m5\u001b[39m\n\u001b[1;32m      3\u001b[0m \u001b[38;5;28;01mif\u001b[39;00m a \u001b[38;5;241m%\u001b[39m \u001b[38;5;241m2\u001b[39m \u001b[38;5;241m!=\u001b[39m \u001b[38;5;241m0\u001b[39m:\n\u001b[0;32m----> 4\u001b[0m     \u001b[38;5;28;01mraise\u001b[39;00m \u001b[38;5;167;01mException\u001b[39;00m(\u001b[38;5;124m\"\u001b[39m\u001b[38;5;124mThe number shouldn\u001b[39m\u001b[38;5;124m'\u001b[39m\u001b[38;5;124mt be an odd integer\u001b[39m\u001b[38;5;124m\"\u001b[39m)\n",
      "\u001b[0;31mException\u001b[0m: The number shouldn't be an odd integer"
     ]
    }
   ],
   "source": [
    "a = 5\n",
    "  \n",
    "if a % 2 != 0:\n",
    "    raise Exception(\"The number shouldn't be an odd integer\")"
   ]
  },
  {
   "cell_type": "code",
   "execution_count": null,
   "id": "0cdd8db2-551b-4d12-b932-4b2fe32d4b54",
   "metadata": {},
   "outputs": [],
   "source": [
    "#Ans5\n",
    "In Python, we can define custom exceptions by creating a new class that is derived from the built-in Exception class.\n",
    "sometimes we may need to create our own custom exceptions that serve our purpose."
   ]
  },
  {
   "cell_type": "code",
   "execution_count": 7,
   "id": "745c38a4-d570-4edb-ac35-af91b3a485d8",
   "metadata": {},
   "outputs": [
    {
     "name": "stdin",
     "output_type": "stream",
     "text": [
      "Enter salary amount:  20000\n"
     ]
    },
    {
     "ename": "SalaryNotInRangeError",
     "evalue": "Salary is not in (5000, 15000) range",
     "output_type": "error",
     "traceback": [
      "\u001b[0;31m---------------------------------------------------------------------------\u001b[0m",
      "\u001b[0;31mSalaryNotInRangeError\u001b[0m                     Traceback (most recent call last)",
      "Cell \u001b[0;32mIn[7], line 17\u001b[0m\n\u001b[1;32m     15\u001b[0m salary \u001b[38;5;241m=\u001b[39m \u001b[38;5;28mint\u001b[39m(\u001b[38;5;28minput\u001b[39m(\u001b[38;5;124m\"\u001b[39m\u001b[38;5;124mEnter salary amount: \u001b[39m\u001b[38;5;124m\"\u001b[39m))\n\u001b[1;32m     16\u001b[0m \u001b[38;5;28;01mif\u001b[39;00m \u001b[38;5;129;01mnot\u001b[39;00m \u001b[38;5;241m5000\u001b[39m \u001b[38;5;241m<\u001b[39m salary \u001b[38;5;241m<\u001b[39m \u001b[38;5;241m15000\u001b[39m:\n\u001b[0;32m---> 17\u001b[0m     \u001b[38;5;28;01mraise\u001b[39;00m SalaryNotInRangeError(salary)\n",
      "\u001b[0;31mSalaryNotInRangeError\u001b[0m: Salary is not in (5000, 15000) range"
     ]
    }
   ],
   "source": [
    "class SalaryNotInRangeError(Exception):\n",
    "    \"\"\"Exception raised for errors in the input salary.\n",
    "\n",
    "    Attributes:\n",
    "        salary -- input salary which caused the error\n",
    "        message -- explanation of the error\n",
    "    \"\"\"\n",
    "\n",
    "    def __init__(self, salary, message=\"Salary is not in (5000, 15000) range\"):\n",
    "        self.salary = salary\n",
    "        self.message = message\n",
    "        super().__init__(self.message)\n",
    "\n",
    "\n",
    "salary = int(input(\"Enter salary amount: \"))\n",
    "if not 5000 < salary < 15000:\n",
    "    raise SalaryNotInRangeError(salary)"
   ]
  },
  {
   "cell_type": "code",
   "execution_count": 10,
   "id": "24c56fee-9555-440a-90ae-a4c06f95265d",
   "metadata": {},
   "outputs": [
    {
     "name": "stdin",
     "output_type": "stream",
     "text": [
      "enter your age -12\n"
     ]
    },
    {
     "name": "stdout",
     "output_type": "stream",
     "text": [
      "age should not be lesser then zero \n"
     ]
    }
   ],
   "source": [
    "#Ans 6\n",
    "\n",
    "class validateage(Exception) : \n",
    "    def __init__(self, msg) :\n",
    "        self.msg = msg\n",
    "def validate_age(age) : \n",
    "    if age < 0 : \n",
    "        raise validateage(\"age should not be lesser then zero \" )\n",
    "    elif age > 200 : \n",
    "        raise validateage(\"age is too high \" )\n",
    "        \n",
    "    else :\n",
    "        print(\"age is valid\" )\n",
    "\n",
    "try : \n",
    "    age = int(input(\"enter your age\"))\n",
    "    validate_age(age)\n",
    "except validateage as e : \n",
    "    print(e)"
   ]
  },
  {
   "cell_type": "code",
   "execution_count": null,
   "id": "69ff74bb-a080-404f-89a6-f812a545a82b",
   "metadata": {},
   "outputs": [],
   "source": []
  }
 ],
 "metadata": {
  "kernelspec": {
   "display_name": "Python 3 (ipykernel)",
   "language": "python",
   "name": "python3"
  },
  "language_info": {
   "codemirror_mode": {
    "name": "ipython",
    "version": 3
   },
   "file_extension": ".py",
   "mimetype": "text/x-python",
   "name": "python",
   "nbconvert_exporter": "python",
   "pygments_lexer": "ipython3",
   "version": "3.10.8"
  }
 },
 "nbformat": 4,
 "nbformat_minor": 5
}
