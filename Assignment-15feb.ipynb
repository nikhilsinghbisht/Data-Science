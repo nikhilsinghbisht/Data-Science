{
 "cells": [
  {
   "cell_type": "code",
   "execution_count": null,
   "id": "3a508cc4-0be1-4d03-b074-795704066427",
   "metadata": {},
   "outputs": [],
   "source": [
    "#Ans1\n",
    "\n",
    "Multiprocessing in Python is a technique that allows multiple processes to run concurrently, taking advantage of the multiple CPU cores available\n",
    "in modern computers. Python's multiprocessing module makes it easy to create and manage processes in a high-level, object-oriented way.\n",
    "\n",
    "Using multiprocessing in Python can be useful in several ways:\n",
    "\n",
    ">Faster execution: By using multiple processes, you can take advantage of multiple CPU cores to perform multiple tasks in parallel, resulting in\n",
    "faster execution of your program.\n",
    "\n",
    ">Improved performance: If your program is CPU-bound (i.e., it spends most of its time performing computations), multiprocessing can significantly \n",
    "improve its performance.\n",
    "\n",
    ">Better resource utilization: By using multiple processes, you can distribute the load across different CPU cores, reducing the overall load on each \n",
    "core and maximizing resource utilization.\n",
    "\n",
    ">Improved fault tolerance: By using multiple processes, you can isolate errors to specific processes, preventing them from crashing your entire program.\n",
    "\n",
    ">Easier parallel programming: Python's multiprocessing module provides a high-level, easy-to-use interface for creating and managing processes, \n",
    "making it easier to write parallel programs in Python.\n",
    "\n",
    "Overall, multiprocessing in Python is a powerful technique that can help you write faster, more efficient, and more scalable programs."
   ]
  },
  {
   "cell_type": "code",
   "execution_count": null,
   "id": "c9b3812b-bf19-488c-a99e-55462dcef564",
   "metadata": {},
   "outputs": [],
   "source": [
    "#Ans2\n",
    "\n",
    "Both multiprocessing and multithreading are techniques used to achieve concurrent execution of code in computer programs. However, they differ\n",
    "in some key ways.\n",
    "\n",
    "Multiprocessing involves running multiple processes simultaneously, each with its own memory space and system resources. Each process runs\n",
    "independently, and communication between processes is typically accomplished using inter-process communication (IPC) mechanisms such as pipes,\n",
    "shared memory, or message queues. Multiprocessing is typically used to take advantage of the processing power of multiple CPU cores or to\n",
    "isolate processes for security reasons.\n",
    "\n",
    "On the other hand, multithreading involves running multiple threads within a single process. Threads share the same memory space and system \n",
    "resources as their parent process, and communication between threads is typically accomplished using shared memory. Multithreading is typically\n",
    "used to achieve concurrency within a single process and to improve the responsiveness of interactive applications, such as graphical user interfaces or web servers.\n",
    "\n",
    "Here are some key differences between multiprocessing and multithreading:\n",
    "\n",
    "Multiprocessing typically requires more overhead to start and manage multiple processes, whereas creating new threads within a process is\n",
    "generally faster and less resource-intensive.\n",
    "\n",
    "Because each process in multiprocessing has its own memory space, it is generally easier to isolate and protect processes from each other. \n",
    "In multithreading, shared memory between threads can make it harder to ensure thread safety and avoid race conditions.\n",
    "\n",
    "Multiprocessing is generally better suited to tasks that are CPU-bound, where parallel processing can provide a significant speedup. \n",
    "Multithreading is better suited to tasks that are I/O-bound, where concurrency can help avoid blocking and improve overall throughput.\n",
    "\n",
    "In general, debugging multithreaded programs can be more difficult than debugging multiprocess programs, due to the shared memory and \n",
    "potential for race conditions."
   ]
  },
  {
   "cell_type": "code",
   "execution_count": 1,
   "id": "999ce29d-5c17-4ed6-8c47-16e9e97cb0e0",
   "metadata": {},
   "outputs": [
    {
     "name": "stdout",
     "output_type": "stream",
     "text": [
      "This is my process.\n"
     ]
    }
   ],
   "source": [
    "#Ans3\n",
    "\n",
    "import multiprocessing\n",
    "\n",
    "def my_process():\n",
    "    print(\"This is my process.\")\n",
    "\n",
    "if __name__ == '__main__':\n",
    "    p = multiprocessing.Process(target=my_process)\n",
    "    p.start()\n",
    "    p.join()\n"
   ]
  },
  {
   "cell_type": "code",
   "execution_count": null,
   "id": "3fccf8e6-1979-468f-ac70-431bc08970de",
   "metadata": {},
   "outputs": [],
   "source": [
    "#Ans4\n",
    "\n",
    "In Python, a multiprocessing pool is a way to execute multiple processes concurrently to perform a task in parallel. It is part of the multiprocessing\n",
    "module, which is used to write parallel programs in Python.\n",
    "\n",
    "A multiprocessing pool allows you to create a group of worker processes, or a \"pool\", to which you can assign tasks. The pool manages the processes \n",
    "and distributes the work among them, which can significantly speed up the execution time of CPU-bound tasks, such as intensive calculations or \n",
    "data processing.\n",
    "\n",
    "When you create a multiprocessing pool, you specify the number of worker processes to create. The pool then takes care of assigning tasks to the \n",
    "available workers, ensuring that no more than the specified number of processes are running simultaneously. This helps to avoid overloading the \n",
    "CPU and memory.\n",
    "\n",
    "Multiprocessing pools are commonly used in Python for parallel execution of CPU-bound tasks, where the goal is to leverage multiple cores and \n",
    "processors to improve performance. They are especially useful for processing large data sets or performing complex calculations that can benefit\n",
    "from parallelization.\n",
    "\n",
    "To use a multiprocessing pool in Python, you typically create a Pool object, which provides methods to submit tasks and retrieve the results.\n",
    "You can use the map() method to apply a function to a sequence of inputs in parallel, or the apply_async() method to submit individual tasks \n",
    "asynchronously. Once all the tasks have been submitted, you can use the close() and join() methods to wait for all the processes to complete \n",
    "and collect the results."
   ]
  },
  {
   "cell_type": "code",
   "execution_count": 2,
   "id": "3bfc127c-d9a1-4e30-a710-db58bfa8aeca",
   "metadata": {},
   "outputs": [
    {
     "name": "stdout",
     "output_type": "stream",
     "text": [
      "[1, 4, 9, 16, 25, 36, 49, 64, 81, 100]\n"
     ]
    }
   ],
   "source": [
    "#Ans5\n",
    "\n",
    "from multiprocessing import Pool\n",
    "\n",
    "def worker_function(arg):\n",
    "    return arg**2;\n",
    "\n",
    "if __name__ == '__main__':\n",
    "    # Create a pool of 4 worker processes\n",
    "    pool = Pool(processes=4)\n",
    "\n",
    "    # Define a list of arguments to be passed to the worker function\n",
    "    arguments = [1,2,3,4,5,6,7,8,9,10]\n",
    "\n",
    "    # Distribute the workload across the worker processes and get the results\n",
    "    results = pool.map(worker_function, arguments)\n",
    "\n",
    "    # Close the pool of worker processes\n",
    "    pool.close()\n",
    "    pool.join()\n",
    "\n",
    "    # Do something with the results\n",
    "    print(results)\n"
   ]
  },
  {
   "cell_type": "code",
   "execution_count": 17,
   "id": "e65861b3-9eab-42fd-b86e-a740cbe93968",
   "metadata": {},
   "outputs": [
    {
     "name": "stdout",
     "output_type": "stream",
     "text": [
      "Number: 1Number:\n",
      " 2\n",
      "Number: 3\n",
      "Number: 4\n"
     ]
    }
   ],
   "source": [
    "#Ans6\n",
    "\n",
    "import multiprocessing\n",
    "\n",
    "def print_num(num):\n",
    "    print(\"Number:\", num)\n",
    "\n",
    "if __name__ == '__main__':\n",
    "    # Create 4 processes\n",
    "    p1 = multiprocessing.Process(target=print_num, args=(1,))\n",
    "    p2 = multiprocessing.Process(target=print_num, args=(2,))\n",
    "    p3 = multiprocessing.Process(target=print_num, args=(3,))\n",
    "    p4 = multiprocessing.Process(target=print_num, args=(4,))\n",
    "\n",
    "    # Start all processes\n",
    "    p1.start()\n",
    "    p2.start()\n",
    "    p3.start()\n",
    "    p4.start()\n",
    "\n",
    "    # Wait for all processes to complete\n",
    "    p1.join()\n",
    "    p2.join()\n",
    "    p3.join()\n",
    "    p4.join()\n"
   ]
  },
  {
   "cell_type": "code",
   "execution_count": null,
   "id": "3b3f0c62-c9fd-413a-80fd-6c1cd9fb50b0",
   "metadata": {},
   "outputs": [],
   "source": []
  }
 ],
 "metadata": {
  "kernelspec": {
   "display_name": "Python 3 (ipykernel)",
   "language": "python",
   "name": "python3"
  },
  "language_info": {
   "codemirror_mode": {
    "name": "ipython",
    "version": 3
   },
   "file_extension": ".py",
   "mimetype": "text/x-python",
   "name": "python",
   "nbconvert_exporter": "python",
   "pygments_lexer": "ipython3",
   "version": "3.10.8"
  }
 },
 "nbformat": 4,
 "nbformat_minor": 5
}
